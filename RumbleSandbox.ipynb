{
 "cells": [
  {
   "cell_type": "markdown",
   "metadata": {},
   "source": [
    "# <center>RumbleDB sandbox</center>\n"
   ]
  },
  {
   "cell_type": "markdown",
   "metadata": {},
   "source": [
    "This is a RumbleDB sandbox that allows you to play with simple JSONiq queries.\n",
    "\n",
    "It is a jupyter notebook that you can also download and execute on your own machine, but if you arrived here from the RumbleDB website, it is likely to be shown within Google's Colab environment.\n",
    "\n",
    "To get started, you first need to execute the cell below to activate the RumbleDB magic (you do not need to understand what it does, this is just initialization Python code)."
   ]
  },
  {
   "cell_type": "code",
   "execution_count": 1,
   "metadata": {},
   "outputs": [],
   "source": [
    "import requests\n",
    "import json\n",
    "import time\n",
    "from IPython.core.magic import register_line_cell_magic\n",
    "\n",
    "@register_line_cell_magic\n",
    "def rumble(line, cell=None):\n",
    "    if cell is None:\n",
    "        data = line\n",
    "    else:\n",
    "        data = cell\n",
    "\n",
    "    start = time.time()                                                         \n",
    "    response = json.loads(requests.post(server, data=data).text)                   \n",
    "    end = time.time()                                                              \n",
    "    print(\"Took: %s ms\" % (end - start))\n",
    "\n",
    "    if 'warning' in response:\n",
    "        print(json.dumps(response['warning']))\n",
    "    if 'values' in response:\n",
    "        for e in response['values']:\n",
    "            print(json.dumps(e))\n",
    "    elif 'error-message' in response:\n",
    "        return print(response['error-message'])\n",
    "    else:\n",
    "        return print(response)"
   ]
  },
  {
   "cell_type": "markdown",
   "metadata": {},
   "source": [
    "By default, this notebook uses a small public backend provided by us. Each query runs on just one machine that is very limited in CPU: one core and memory: 1GB, and with only the http scheme activated. This is sufficient to discover RumbleDB and play a bit, but of course is not intended for any production use. If you need to use RumbleDB in production, you can use it with an installation of Spark either on your machine or on a cluster.\n",
    "\n",
    "This sandbox backend may occasionally break, especially if too many users use it at the same time, so please bear with us! The system is automatically restarted every day so, if it stops working, you can either try again in 24 hours or notify us.\n",
    "\n",
    "In order to use our backend, just execute the cell below without modifying it."
   ]
  },
  {
   "cell_type": "code",
   "execution_count": 26,
   "metadata": {},
   "outputs": [],
   "source": [
    "server='http://public.rumbledb.org:9090/jsoniq'"
   ]
  },
  {
   "cell_type": "markdown",
   "metadata": {},
   "source": [
    "It is straightforward to execute your own RumbleDB server on your own Spark cluster (and then you can make full use of all the input file systems and file formats). In this case, just replace the above server with your own hostname and port. Note that if you run RumbleDB as a server locally, you will also need to download and use this notebook locally rather than in this Google Colab environment as, obviously, your personal computer cannot be accessed from the Web.\n",
    "\n",
    "Now we are all set! You can now start reading and executing the JSONiq queries as you go, and you can even edit them!"
   ]
  },
  {
   "cell_type": "markdown",
   "metadata": {},
   "source": [
    "## JSON\n",
    "\n",
    "As explained on the [official JSON Web site](http://www.json.org/), JSON is a lightweight data-interchange format designed for humans as well as for computers. It supports as values:\n",
    "- objects (string-to-value maps)\n",
    "- arrays (ordered sequences of values)\n",
    "- strings\n",
    "- numbers\n",
    "- booleans (true, false)\n",
    "- null\n",
    "\n",
    "JSONiq provides declarative querying and updating capabilities on JSON data.\n",
    "\n",
    "## Elevator Pitch\n",
    "\n",
    "JSONiq is based on XQuery, which is a W3C standard (like XML and HTML). XQuery is a very powerful declarative language that originally manipulates XML data, but it turns out that it is also a very good fit for manipulating JSON natively.\n",
    "JSONiq, since it extends XQuery, is a very powerful general-purpose declarative programming language. Our experience is that, for the same task, you will probably write about 80% less code compared to imperative languages like JavaScript, Python or Ruby. Additionally, you get the benefits of strong type checking without actually having to write type declarations.\n",
    "Here is an appetizer before we start the tutorial from scratch.\n"
   ]
  },
  {
   "cell_type": "code",
   "execution_count": 48,
   "metadata": {},
   "outputs": [
    {
     "name": "stdout",
     "output_type": "stream",
     "text": [
      "Took: 0.011076211929321289 ms\n",
      "[{\"nb\": 1, \"state\": \"MA\", \"sold\": \"broiler\"}, {\"nb\": 1, \"state\": \"MA\", \"sold\": \"socks\"}, {\"nb\": 2, \"state\": \"MA\", \"sold\": \"toaster\"}, {\"nb\": 2, \"state\": \"MA\", \"sold\": \"toaster\"}, {\"nb\": 2, \"state\": \"MA\", \"sold\": \"socks\"}, {\"nb\": 3, \"state\": \"CA\", \"sold\": \"toaster\"}, {\"nb\": 3, \"state\": \"CA\", \"sold\": \"blender\"}, {\"nb\": 3, \"state\": \"CA\", \"sold\": \"blender\"}, {\"nb\": 3, \"state\": \"CA\", \"sold\": \"shirt\"}]\n"
     ]
    }
   ],
   "source": [
    "%%rumble\n",
    "\n",
    "let $stores :=\n",
    "[\n",
    "  { \"store number\" : 1, \"state\" : \"MA\" },\n",
    "  { \"store number\" : 2, \"state\" : \"MA\" },\n",
    "  { \"store number\" : 3, \"state\" : \"CA\" },\n",
    "  { \"store number\" : 4, \"state\" : \"CA\" }\n",
    "]\n",
    "let $sales := [\n",
    "   { \"product\" : \"broiler\", \"store number\" : 1, \"quantity\" : 20  },\n",
    "   { \"product\" : \"toaster\", \"store number\" : 2, \"quantity\" : 100 },\n",
    "   { \"product\" : \"toaster\", \"store number\" : 2, \"quantity\" : 50 },\n",
    "   { \"product\" : \"toaster\", \"store number\" : 3, \"quantity\" : 50 },\n",
    "   { \"product\" : \"blender\", \"store number\" : 3, \"quantity\" : 100 },\n",
    "   { \"product\" : \"blender\", \"store number\" : 3, \"quantity\" : 150 },\n",
    "   { \"product\" : \"socks\", \"store number\" : 1, \"quantity\" : 500 },\n",
    "   { \"product\" : \"socks\", \"store number\" : 2, \"quantity\" : 10 },\n",
    "   { \"product\" : \"shirt\", \"store number\" : 3, \"quantity\" : 10 }\n",
    "]\n",
    "let $join :=\n",
    "  for $store in $stores[], $sale in $sales[]\n",
    "  where $store.\"store number\" = $sale.\"store number\"\n",
    "  return {\n",
    "    \"nb\" : $store.\"store number\",\n",
    "    \"state\" : $store.state,\n",
    "    \"sold\" : $sale.product\n",
    "  }\n",
    "return [$join]\n",
    "\n"
   ]
  },
  {
   "cell_type": "markdown",
   "metadata": {},
   "source": [
    "## And here you go\n",
    "\n",
    "### Actually, you already knew some JSONiq\n",
    "\n",
    "The first thing you need to know is that a well-formed JSON document is a JSONiq expression as well.\n",
    "This means that you can copy-and-paste any JSON document into a query. The following are JSONiq queries that are \"idempotent\" (they just output themselves):"
   ]
  },
  {
   "cell_type": "code",
   "execution_count": 49,
   "metadata": {},
   "outputs": [
    {
     "name": "stdout",
     "output_type": "stream",
     "text": [
      "Took: 0.006221771240234375 ms\n",
      "{\"pi\": 3.14, \"sq2\": 1.4}\n"
     ]
    }
   ],
   "source": [
    "%%rumble\n",
    "{ \"pi\" : 3.14, \"sq2\" : 1.4 }"
   ]
  },
  {
   "cell_type": "code",
   "execution_count": 50,
   "metadata": {},
   "outputs": [
    {
     "name": "stdout",
     "output_type": "stream",
     "text": [
      "Took: 0.0064008235931396484 ms\n",
      "[2, 3, 5, 7, 11, 13]\n"
     ]
    }
   ],
   "source": [
    "%%rumble\n",
    "[ 2, 3, 5, 7, 11, 13 ]"
   ]
  },
  {
   "cell_type": "code",
   "execution_count": 51,
   "metadata": {},
   "outputs": [
    {
     "name": "stdout",
     "output_type": "stream",
     "text": [
      "Took: 0.008172035217285156 ms\n",
      "{\"operations\": [{\"binary\": [\"and\", \"or\"]}, {\"unary\": [\"not\"]}], \"bits\": [0, 1]}\n"
     ]
    }
   ],
   "source": [
    "%%rumble\n",
    "{\n",
    "      \"operations\" : [\n",
    "        { \"binary\" : [ \"and\", \"or\"] },\n",
    "        { \"unary\" : [\"not\"] }\n",
    "      ],\n",
    "      \"bits\" : [\n",
    "        0, 1\n",
    "      ]\n",
    "    }"
   ]
  },
  {
   "cell_type": "code",
   "execution_count": 52,
   "metadata": {},
   "outputs": [
    {
     "name": "stdout",
     "output_type": "stream",
     "text": [
      "Took: 0.006453990936279297 ms\n",
      "[{\"Question\": \"Ultimate\"}, [\"Life\", \"the universe\", \"and everything\"]]\n"
     ]
    }
   ],
   "source": [
    "%%rumble\n",
    "[ { \"Question\" : \"Ultimate\" }, [\"Life\", \"the universe\", \"and everything\"] ]"
   ]
  },
  {
   "cell_type": "markdown",
   "metadata": {},
   "source": [
    "This works with objects, arrays (even nested), strings, numbers, booleans, null.\n",
    "\n",
    "It also works the other way round: if your query outputs an object or an array, you can use it as a JSON document.\n",
    "JSONiq is a declarative language. This means that you only need to say what you want - the compiler will take care of the how. \n",
    "\n",
    "In the above queries, you are basically saying: I want to output this JSON content, and here it is."
   ]
  },
  {
   "cell_type": "markdown",
   "metadata": {},
   "source": [
    "## JSONiq basics\n",
    "\n",
    "### The real JSONiq Hello, World!\n",
    "\n",
    "Wondering what a hello world program looks like in JSONiq? Here it is:"
   ]
  },
  {
   "cell_type": "code",
   "execution_count": 53,
   "metadata": {},
   "outputs": [
    {
     "name": "stdout",
     "output_type": "stream",
     "text": [
      "Took: 0.0066568851470947266 ms\n",
      "\"Hello, World!\"\n"
     ]
    }
   ],
   "source": [
    "%%rumble\n",
    "\"Hello, World!\""
   ]
  },
  {
   "cell_type": "markdown",
   "metadata": {},
   "source": [
    "Not surprisingly, it outputs the string \"Hello, World!\".\n",
    "\n",
    "### Numbers and arithmetic operations\n",
    "\n",
    "Okay, so, now, you might be thinking: \"What is the use of this language if it just outputs what I put in?\" Of course, JSONiq can more than that. And still in a declarative way. Here is how it works with numbers:"
   ]
  },
  {
   "cell_type": "code",
   "execution_count": 54,
   "metadata": {},
   "outputs": [
    {
     "name": "stdout",
     "output_type": "stream",
     "text": [
      "Took: 0.0072820186614990234 ms\n",
      "4\n"
     ]
    }
   ],
   "source": [
    "%%rumble\n",
    "2 + 2"
   ]
  },
  {
   "cell_type": "code",
   "execution_count": 55,
   "metadata": {},
   "outputs": [
    {
     "name": "stdout",
     "output_type": "stream",
     "text": [
      "Took: 0.0064237117767333984 ms\n",
      "42\n"
     ]
    }
   ],
   "source": [
    "%%rumble\n",
    " (38 + 2) div 2 + 11 * 2\n"
   ]
  },
  {
   "cell_type": "markdown",
   "metadata": {},
   "source": [
    "(mind the division operator which is the \"div\" keyword. The slash operator has different semantics).\n",
    "\n",
    "Like JSON, JSONiq works with decimals and doubles:"
   ]
  },
  {
   "cell_type": "code",
   "execution_count": 56,
   "metadata": {},
   "outputs": [
    {
     "name": "stdout",
     "output_type": "stream",
     "text": [
      "Took: 0.007363080978393555 ms\n",
      "25292400000000000000000000\n"
     ]
    }
   ],
   "source": [
    "%%rumble\n",
    " 6.022e23 * 42"
   ]
  },
  {
   "cell_type": "markdown",
   "metadata": {},
   "source": [
    "### Logical operations\n",
    "\n",
    "JSONiq supports boolean operations."
   ]
  },
  {
   "cell_type": "code",
   "execution_count": 57,
   "metadata": {},
   "outputs": [
    {
     "name": "stdout",
     "output_type": "stream",
     "text": [
      "Took: 0.006527900695800781 ms\n",
      "false\n"
     ]
    }
   ],
   "source": [
    "%%rumble\n",
    "true and false"
   ]
  },
  {
   "cell_type": "code",
   "execution_count": 58,
   "metadata": {},
   "outputs": [
    {
     "name": "stdout",
     "output_type": "stream",
     "text": [
      "Took: 0.007046222686767578 ms\n",
      "true\n"
     ]
    }
   ],
   "source": [
    "%%rumble\n",
    "(true or false) and (false or true)"
   ]
  },
  {
   "cell_type": "markdown",
   "metadata": {},
   "source": [
    "The unary not is also available:"
   ]
  },
  {
   "cell_type": "code",
   "execution_count": 59,
   "metadata": {
    "cell_status": {
     "execute_time": {
      "duration": 243.537109375,
      "end_time": 1557235032261.665
     }
    }
   },
   "outputs": [
    {
     "name": "stdout",
     "output_type": "stream",
     "text": [
      "Took: 0.006941080093383789 ms\n",
      "false\n"
     ]
    }
   ],
   "source": [
    "%%rumble\n",
    "not true"
   ]
  },
  {
   "cell_type": "markdown",
   "metadata": {},
   "source": [
    "### Strings\n",
    "\n",
    "JSONiq is capable of manipulating strings as well, using functions:\n"
   ]
  },
  {
   "cell_type": "code",
   "execution_count": 60,
   "metadata": {
    "cell_status": {
     "execute_time": {
      "duration": 21398.401123046875,
      "end_time": 1557212587338.105
     }
    }
   },
   "outputs": [
    {
     "name": "stdout",
     "output_type": "stream",
     "text": [
      "Took: 0.005676984786987305 ms\n",
      "\"Hello Captain Kirk\"\n"
     ]
    }
   ],
   "source": [
    "%%rumble\n",
    "concat(\"Hello \", \"Captain \", \"Kirk\")"
   ]
  },
  {
   "cell_type": "code",
   "execution_count": 61,
   "metadata": {
    "cell_status": {
     "execute_time": {
      "duration": 752.509033203125,
      "end_time": 1557234001018.501
     }
    }
   },
   "outputs": [
    {
     "name": "stdout",
     "output_type": "stream",
     "text": [
      "Took: 0.00574493408203125 ms\n",
      "\"Spock\"\n"
     ]
    }
   ],
   "source": [
    "%%rumble\n",
    "substring(\"Mister Spock\", 8, 5)"
   ]
  },
  {
   "cell_type": "markdown",
   "metadata": {},
   "source": [
    "JSONiq comes up with a rich string function library out of the box, inherited from its base language. These functions are listed [here](https://www.w3.org/TR/xpath-functions-30/) (actually, you will find many more for numbers, dates, etc).\n"
   ]
  },
  {
   "cell_type": "markdown",
   "metadata": {
    "cell_status": {
     "execute_time": {
      "duration": 17337.39599609375,
      "end_time": 1557230774662.657
     }
    }
   },
   "source": [
    "\n",
    "### Sequences\n",
    "\n",
    "Until now, we have only been working with single values (an object, an array, a number, a string, a boolean). JSONiq supports sequences of values. You can build a sequence using commas:\n"
   ]
  },
  {
   "cell_type": "code",
   "execution_count": 62,
   "metadata": {},
   "outputs": [
    {
     "name": "stdout",
     "output_type": "stream",
     "text": [
      "Took: 0.0066449642181396484 ms\n",
      "1\n",
      "2\n",
      "3\n",
      "4\n",
      "5\n",
      "6\n",
      "7\n",
      "8\n",
      "9\n",
      "10\n"
     ]
    }
   ],
   "source": [
    "%%rumble\n",
    " (1, 2, 3, 4, 5, 6, 7, 8, 9, 10)"
   ]
  },
  {
   "cell_type": "code",
   "execution_count": 63,
   "metadata": {
    "cell_status": {
     "execute_time": {
      "duration": 222241.63500976562,
      "end_time": 1557387411306.792
     }
    }
   },
   "outputs": [
    {
     "name": "stdout",
     "output_type": "stream",
     "text": [
      "Took: 0.00654292106628418 ms\n",
      "1\n",
      "true\n",
      "42\n",
      "\"Life\"\n"
     ]
    }
   ],
   "source": [
    "%%rumble\n",
    "1, true, 4.2e1, \"Life\""
   ]
  },
  {
   "cell_type": "markdown",
   "metadata": {},
   "source": [
    "The \"to\" operator is very convenient, too:"
   ]
  },
  {
   "cell_type": "code",
   "execution_count": 64,
   "metadata": {
    "cell_status": {
     "execute_time": {
      "duration": 39579.559814453125,
      "end_time": 1557387951481.842
     }
    }
   },
   "outputs": [
    {
     "name": "stdout",
     "output_type": "stream",
     "text": [
      "Took: 0.006345033645629883 ms\n",
      "1\n",
      "2\n",
      "3\n",
      "4\n",
      "5\n",
      "6\n",
      "7\n",
      "8\n",
      "9\n",
      "10\n",
      "11\n",
      "12\n",
      "13\n",
      "14\n",
      "15\n",
      "16\n",
      "17\n",
      "18\n",
      "19\n",
      "20\n",
      "21\n",
      "22\n",
      "23\n",
      "24\n",
      "25\n",
      "26\n",
      "27\n",
      "28\n",
      "29\n",
      "30\n",
      "31\n",
      "32\n",
      "33\n",
      "34\n",
      "35\n",
      "36\n",
      "37\n",
      "38\n",
      "39\n",
      "40\n",
      "41\n",
      "42\n",
      "43\n",
      "44\n",
      "45\n",
      "46\n",
      "47\n",
      "48\n",
      "49\n",
      "50\n",
      "51\n",
      "52\n",
      "53\n",
      "54\n",
      "55\n",
      "56\n",
      "57\n",
      "58\n",
      "59\n",
      "60\n",
      "61\n",
      "62\n",
      "63\n",
      "64\n",
      "65\n",
      "66\n",
      "67\n",
      "68\n",
      "69\n",
      "70\n",
      "71\n",
      "72\n",
      "73\n",
      "74\n",
      "75\n",
      "76\n",
      "77\n",
      "78\n",
      "79\n",
      "80\n",
      "81\n",
      "82\n",
      "83\n",
      "84\n",
      "85\n",
      "86\n",
      "87\n",
      "88\n",
      "89\n",
      "90\n",
      "91\n",
      "92\n",
      "93\n",
      "94\n",
      "95\n",
      "96\n",
      "97\n",
      "98\n",
      "99\n",
      "100\n"
     ]
    }
   ],
   "source": [
    "%%rumble\n",
    " (1 to 100)"
   ]
  },
  {
   "cell_type": "markdown",
   "metadata": {},
   "source": [
    "Some functions even work on sequences:"
   ]
  },
  {
   "cell_type": "code",
   "execution_count": 65,
   "metadata": {
    "cell_status": {
     "execute_time": {
      "duration": 27601.31787109375,
      "end_time": 1557171455208.987
     }
    }
   },
   "outputs": [
    {
     "name": "stdout",
     "output_type": "stream",
     "text": [
      "Took: 0.005728006362915039 ms\n",
      "5050\n"
     ]
    }
   ],
   "source": [
    "%%rumble\n",
    "sum(1 to 100)"
   ]
  },
  {
   "cell_type": "code",
   "execution_count": 66,
   "metadata": {
    "cell_status": {
     "execute_time": {
      "duration": 55527.44091796875,
      "end_time": 1557229508578.007
     }
    }
   },
   "outputs": [
    {
     "name": "stdout",
     "output_type": "stream",
     "text": [
      "Took: 0.0058438777923583984 ms\n",
      "\"These-are-some-words\"\n"
     ]
    }
   ],
   "source": [
    "%%rumble\n",
    "string-join((\"These\", \"are\", \"some\", \"words\"), \"-\")"
   ]
  },
  {
   "cell_type": "code",
   "execution_count": 67,
   "metadata": {
    "cell_status": {
     "execute_time": {
      "duration": 13343.739013671875,
      "end_time": 1557224627704.526
     }
    }
   },
   "outputs": [
    {
     "name": "stdout",
     "output_type": "stream",
     "text": [
      "Took: 0.0066111087799072266 ms\n",
      "11\n"
     ]
    }
   ],
   "source": [
    "%%rumble\n",
    "count(10 to 20)"
   ]
  },
  {
   "cell_type": "code",
   "execution_count": 68,
   "metadata": {
    "cell_status": {
     "execute_time": {
      "duration": 19340.81201171875,
      "end_time": 1557220260002.04
     }
    }
   },
   "outputs": [
    {
     "name": "stdout",
     "output_type": "stream",
     "text": [
      "Took: 0.005938053131103516 ms\n",
      "50.5\n"
     ]
    }
   ],
   "source": [
    "%%rumble\n",
    "avg(1 to 100)"
   ]
  },
  {
   "cell_type": "markdown",
   "metadata": {},
   "source": [
    "Unlike arrays, sequences are flat. The sequence (3) is identical to the integer 3, and (1, (2, 3)) is identical to (1, 2, 3)."
   ]
  },
  {
   "cell_type": "markdown",
   "metadata": {
    "cell_status": {
     "execute_time": {
      "duration": 433204.9020996094,
      "end_time": 1557221766692.589
     }
    },
    "scrolled": false
   },
   "source": [
    "## A bit more in depth\n",
    "\n",
    "### Variables\n",
    "\n",
    "You can bind a sequence of values to a (dollar-prefixed) variable, like so:"
   ]
  },
  {
   "cell_type": "code",
   "execution_count": 69,
   "metadata": {},
   "outputs": [
    {
     "name": "stdout",
     "output_type": "stream",
     "text": [
      "Took: 0.007143735885620117 ms\n",
      "\"Bearing 3 1 4 Mark 5. Engage!\"\n"
     ]
    }
   ],
   "source": [
    "%%rumble\n",
    "let $x := \"Bearing 3 1 4 Mark 5. \"\n",
    "return concat($x, \"Engage!\")"
   ]
  },
  {
   "cell_type": "code",
   "execution_count": 70,
   "metadata": {},
   "outputs": [
    {
     "name": "stdout",
     "output_type": "stream",
     "text": [
      "Took: 0.006165742874145508 ms\n",
      "\"Kirk and Picard and Sisko\"\n"
     ]
    }
   ],
   "source": [
    "%%rumble\n",
    "let $x := (\"Kirk\", \"Picard\", \"Sisko\")\n",
    "return string-join($x, \" and \")"
   ]
  },
  {
   "cell_type": "markdown",
   "metadata": {},
   "source": [
    "You can bind as many variables as you want:"
   ]
  },
  {
   "cell_type": "code",
   "execution_count": 71,
   "metadata": {},
   "outputs": [
    {
     "name": "stdout",
     "output_type": "stream",
     "text": [
      "Took: 0.006880044937133789 ms\n",
      "1\n",
      "2\n",
      "3\n"
     ]
    }
   ],
   "source": [
    "%%rumble\n",
    "let $x := 1\n",
    "let $y := $x * 2\n",
    "let $z := $y + $x\n",
    "return ($x, $y, $z)"
   ]
  },
  {
   "cell_type": "markdown",
   "metadata": {},
   "source": [
    "and even reuse the same name to hide formerly declared variables:"
   ]
  },
  {
   "cell_type": "code",
   "execution_count": 72,
   "metadata": {},
   "outputs": [
    {
     "name": "stdout",
     "output_type": "stream",
     "text": [
      "Took: 0.006127119064331055 ms\n",
      "6\n"
     ]
    }
   ],
   "source": [
    "%%rumble\n",
    "let $x := 1\n",
    "let $x := $x + 2\n",
    "let $x := $x + 3\n",
    "return $x"
   ]
  },
  {
   "cell_type": "markdown",
   "metadata": {},
   "source": [
    "### Iteration\n",
    "\n",
    "In a way very similar to let, you can iterate over a sequence of values with the \"for\" keyword. Instead of binding the entire sequence of the variable, it will bind each value of the sequence in turn to this variable."
   ]
  },
  {
   "cell_type": "code",
   "execution_count": 73,
   "metadata": {},
   "outputs": [
    {
     "name": "stdout",
     "output_type": "stream",
     "text": [
      "Took: 0.006555080413818359 ms\n",
      "2\n",
      "4\n",
      "6\n",
      "8\n",
      "10\n",
      "12\n",
      "14\n",
      "16\n",
      "18\n",
      "20\n"
     ]
    }
   ],
   "source": [
    "%%rumble\n",
    "for $i in 1 to 10\n",
    "return $i * 2"
   ]
  },
  {
   "cell_type": "markdown",
   "metadata": {},
   "source": [
    "More interestingly, you can combine fors and lets like so:"
   ]
  },
  {
   "cell_type": "code",
   "execution_count": 74,
   "metadata": {},
   "outputs": [
    {
     "name": "stdout",
     "output_type": "stream",
     "text": [
      "Took: 0.006516933441162109 ms\n",
      "2\n",
      "4\n",
      "6\n",
      "8\n",
      "10\n",
      "12\n",
      "14\n",
      "16\n",
      "18\n",
      "20\n"
     ]
    }
   ],
   "source": [
    "%%rumble\n",
    "let $sequence := 1 to 10\n",
    "for $value in $sequence\n",
    "let $square := $value * 2\n",
    "return $square"
   ]
  },
  {
   "cell_type": "markdown",
   "metadata": {},
   "source": [
    "and even filter out some values:"
   ]
  },
  {
   "cell_type": "code",
   "execution_count": 75,
   "metadata": {},
   "outputs": [
    {
     "name": "stdout",
     "output_type": "stream",
     "text": [
      "Took: 0.0077419281005859375 ms\n",
      "2\n",
      "4\n",
      "6\n",
      "8\n"
     ]
    }
   ],
   "source": [
    "%%rumble\n",
    "let $sequence := 1 to 10\n",
    "for $value in $sequence\n",
    "let $square := $value * 2\n",
    "where $square < 10\n",
    "return $square"
   ]
  },
  {
   "cell_type": "markdown",
   "metadata": {},
   "source": [
    "Note that you can only iterate over sequences, not arrays. To iterate over an array, you can obtain the sequence of its values with the [] operator, like so:\n"
   ]
  },
  {
   "cell_type": "code",
   "execution_count": 76,
   "metadata": {},
   "outputs": [
    {
     "name": "stdout",
     "output_type": "stream",
     "text": [
      "Took: 0.006000041961669922 ms\n",
      "1\n",
      "2\n",
      "3\n"
     ]
    }
   ],
   "source": [
    "%%rumble\n",
    "[1, 2, 3][]"
   ]
  },
  {
   "cell_type": "markdown",
   "metadata": {},
   "source": [
    "### Conditions\n",
    "\n",
    "You can make the output depend on a condition with an if-then-else construct:"
   ]
  },
  {
   "cell_type": "code",
   "execution_count": 77,
   "metadata": {},
   "outputs": [
    {
     "name": "stdout",
     "output_type": "stream",
     "text": [
      "Took: 0.0064771175384521484 ms\n",
      "1\n",
      "2\n",
      "3\n",
      "4\n",
      "-5\n",
      "-6\n",
      "-7\n",
      "-8\n",
      "-9\n",
      "-10\n"
     ]
    }
   ],
   "source": [
    "%%rumble\n",
    "for $x in 1 to 10\n",
    "return if ($x < 5) then $x\n",
    "                   else -$x"
   ]
  },
  {
   "cell_type": "markdown",
   "metadata": {},
   "source": [
    "Note that the else clause is required - however, it can be the empty sequence () which is often when you need if only the then clause is relevant to you."
   ]
  },
  {
   "cell_type": "markdown",
   "metadata": {},
   "source": [
    "### Composability of Expressions\n",
    "\n",
    "Now that you know of a couple of elementary JSONiq expressions, you can combine them in more elaborate expressions. For example, you can put any sequence of values in an array:"
   ]
  },
  {
   "cell_type": "code",
   "execution_count": 78,
   "metadata": {},
   "outputs": [
    {
     "name": "stdout",
     "output_type": "stream",
     "text": [
      "Took: 0.007096052169799805 ms\n",
      "[1, 2, 3, 4, 5, 6, 7, 8, 9, 10]\n"
     ]
    }
   ],
   "source": [
    "%%rumble\n",
    "[ 1 to 10 ]"
   ]
  },
  {
   "cell_type": "markdown",
   "metadata": {},
   "source": [
    "Or you can dynamically compute the value of object pairs (or their key):"
   ]
  },
  {
   "cell_type": "code",
   "execution_count": 79,
   "metadata": {},
   "outputs": [
    {
     "name": "stdout",
     "output_type": "stream",
     "text": [
      "Took: 0.007810831069946289 ms\n",
      "{\"Greeting\": \"Hello, Mister Spock\", \"Farewell\": \"Live long and prosper\"}\n"
     ]
    }
   ],
   "source": [
    "%%rumble\n",
    "{\n",
    "      \"Greeting\" : (let $d := \"Mister Spock\"\n",
    "                    return concat(\"Hello, \", $d)),\n",
    "      \"Farewell\" : string-join((\"Live\", \"long\", \"and\", \"prosper\"),\n",
    "                               \" \")\n",
    "}"
   ]
  },
  {
   "cell_type": "markdown",
   "metadata": {},
   "source": [
    "You can dynamically generate object singletons (with a single pair):\n"
   ]
  },
  {
   "cell_type": "code",
   "execution_count": 80,
   "metadata": {},
   "outputs": [
    {
     "name": "stdout",
     "output_type": "stream",
     "text": [
      "Took: 0.006745100021362305 ms\n",
      "{\"Integer 2\": 4}\n"
     ]
    }
   ],
   "source": [
    "%%rumble\n",
    "{ concat(\"Integer \", 2) : 2 * 2 }"
   ]
  },
  {
   "cell_type": "markdown",
   "metadata": {},
   "source": [
    "and then merge lots of them into a new object with the {| |} notation:"
   ]
  },
  {
   "cell_type": "code",
   "execution_count": 81,
   "metadata": {},
   "outputs": [
    {
     "name": "stdout",
     "output_type": "stream",
     "text": [
      "Took: 0.006300926208496094 ms\n",
      "{\"Square of 1\": 1, \"Square of 2\": 4, \"Square of 3\": 9, \"Square of 4\": 16, \"Square of 5\": 25, \"Square of 6\": 36, \"Square of 7\": 49, \"Square of 8\": 64, \"Square of 9\": 81, \"Square of 10\": 100}\n"
     ]
    }
   ],
   "source": [
    "%%rumble\n",
    "{|\n",
    "    for $i in 1 to 10\n",
    "    return { concat(\"Square of \", $i) : $i * $i }\n",
    "|}"
   ]
  },
  {
   "cell_type": "markdown",
   "metadata": {},
   "source": [
    "## JSON Navigation\n",
    "\n",
    "Up to now, you have learnt how to compose expressions so as to do some computations and to build objects and arrays. It also works the other way round: if you have some JSON data, you can access it and navigate.\n",
    "All you need to know is: JSONiq views\n",
    "an array as an ordered list of values,\n",
    "an object as a set of name/value pairs\n"
   ]
  },
  {
   "cell_type": "markdown",
   "metadata": {},
   "source": [
    "### Objects\n",
    "\n",
    "You can use the dot operator to retrieve the value associated with a key. Quotes are optional, except if the key has special characters such as spaces. It will return the value associated thereto:"
   ]
  },
  {
   "cell_type": "code",
   "execution_count": 82,
   "metadata": {},
   "outputs": [
    {
     "name": "stdout",
     "output_type": "stream",
     "text": [
      "Took: 0.009386062622070312 ms\n",
      "\"Sarah\"\n"
     ]
    }
   ],
   "source": [
    "%%rumble\n",
    "let $person := {\n",
    "    \"first name\" : \"Sarah\",\n",
    "    \"age\" : 13,\n",
    "    \"gender\" : \"female\",\n",
    "    \"friends\" : [ \"Jim\", \"Mary\", \"Jennifer\"]\n",
    "}\n",
    "return $person.\"first name\""
   ]
  },
  {
   "cell_type": "markdown",
   "metadata": {},
   "source": [
    "You can also ask for all keys in an object:"
   ]
  },
  {
   "cell_type": "code",
   "execution_count": 83,
   "metadata": {},
   "outputs": [
    {
     "name": "stdout",
     "output_type": "stream",
     "text": [
      "Took: 0.00790095329284668 ms\n",
      "{\"keys\": [\"name\", \"age\", \"gender\", \"friends\"]}\n"
     ]
    }
   ],
   "source": [
    "%%rumble\n",
    "let $person := {\n",
    "    \"name\" : \"Sarah\",\n",
    "    \"age\" : 13,\n",
    "    \"gender\" : \"female\",\n",
    "    \"friends\" : [ \"Jim\", \"Mary\", \"Jennifer\"]\n",
    "}\n",
    "return { \"keys\" : [ keys($person)] }"
   ]
  },
  {
   "cell_type": "markdown",
   "metadata": {},
   "source": [
    "### Arrays\n",
    "\n",
    "The [[]] operator retrieves the entry at the given position:"
   ]
  },
  {
   "cell_type": "code",
   "execution_count": 84,
   "metadata": {},
   "outputs": [
    {
     "name": "stdout",
     "output_type": "stream",
     "text": [
      "Took: 0.00620579719543457 ms\n",
      "\"Mary\"\n"
     ]
    }
   ],
   "source": [
    "%%rumble\n",
    "let $friends := [ \"Jim\", \"Mary\", \"Jennifer\"]\n",
    "return $friends[[1+1]]"
   ]
  },
  {
   "cell_type": "markdown",
   "metadata": {},
   "source": [
    "It is also possible to get the size of an array:"
   ]
  },
  {
   "cell_type": "code",
   "execution_count": 85,
   "metadata": {},
   "outputs": [
    {
     "name": "stdout",
     "output_type": "stream",
     "text": [
      "Took: 0.006299018859863281 ms\n",
      "{\"how many friends\": 3}\n"
     ]
    }
   ],
   "source": [
    "%%rumble\n",
    "let $person := {\n",
    "    \"name\" : \"Sarah\",\n",
    "    \"age\" : 13,\n",
    "    \"gender\" : \"female\",\n",
    "    \"friends\" : [ \"Jim\", \"Mary\", \"Jennifer\"]\n",
    "}\n",
    "return { \"how many friends\" : size($person.friends) }"
   ]
  },
  {
   "cell_type": "markdown",
   "metadata": {},
   "source": [
    "Finally, the [] operator returns all elements in an array, as a sequence:"
   ]
  },
  {
   "cell_type": "code",
   "execution_count": 86,
   "metadata": {},
   "outputs": [
    {
     "name": "stdout",
     "output_type": "stream",
     "text": [
      "Took: 0.0063228607177734375 ms\n",
      "\"Jim\"\n",
      "\"Mary\"\n",
      "\"Jennifer\"\n"
     ]
    }
   ],
   "source": [
    "%%rumble\n",
    "let $person := {\n",
    "    \"name\" : \"Sarah\",\n",
    "    \"age\" : 13,\n",
    "    \"gender\" : \"female\",\n",
    "    \"friends\" : [ \"Jim\", \"Mary\", \"Jennifer\"]\n",
    "}\n",
    "return $person.friends[]"
   ]
  },
  {
   "cell_type": "markdown",
   "metadata": {},
   "source": [
    "### Relational Algebra\n",
    "\n",
    "Do you remember SQL's SELECT FROM WHERE statements? JSONiq inherits selection, projection and join capability from XQuery, too."
   ]
  },
  {
   "cell_type": "code",
   "execution_count": null,
   "metadata": {},
   "outputs": [],
   "source": [
    "%%rumble\n",
    "let $stores :=\n",
    "[\n",
    "    { \"store number\" : 1, \"state\" : \"MA\" },\n",
    "    { \"store number\" : 2, \"state\" : \"MA\" },\n",
    "    { \"store number\" : 3, \"state\" : \"CA\" },\n",
    "    { \"store number\" : 4, \"state\" : \"CA\" }\n",
    "]\n",
    "let $sales := [\n",
    "    { \"product\" : \"broiler\", \"store number\" : 1, \"quantity\" : 20  },\n",
    "    { \"product\" : \"toaster\", \"store number\" : 2, \"quantity\" : 100 },\n",
    "    { \"product\" : \"toaster\", \"store number\" : 2, \"quantity\" : 50 },\n",
    "    { \"product\" : \"toaster\", \"store number\" : 3, \"quantity\" : 50 },\n",
    "    { \"product\" : \"blender\", \"store number\" : 3, \"quantity\" : 100 },\n",
    "    { \"product\" : \"blender\", \"store number\" : 3, \"quantity\" : 150 },\n",
    "    { \"product\" : \"socks\", \"store number\" : 1, \"quantity\" : 500 },\n",
    "    { \"product\" : \"socks\", \"store number\" : 2, \"quantity\" : 10 },\n",
    "    { \"product\" : \"shirt\", \"store number\" : 3, \"quantity\" : 10 }\n",
    "]\n",
    "let $join :=\n",
    "    for $store in $stores[], $sale in $sales[]\n",
    "    where $store.\"store number\" = $sale.\"store number\"\n",
    "    return {\n",
    "        \"nb\" : $store.\"store number\",\n",
    "        \"state\" : $store.state,\n",
    "        \"sold\" : $sale.product\n",
    "    }\n",
    "return [$join]"
   ]
  },
  {
   "cell_type": "markdown",
   "metadata": {},
   "source": [
    "### Access datasets\n",
    "\n",
    "RumbleDB can read input from many file systems and many file formats. If you are using our backend, you can only use json-doc() with any URI pointing to a JSON file and navigate it as you see fit. \n",
    "\n",
    "You can read data from your local disk, from S3, from HDFS, and also from the Web. For this tutorial, we'll read from the Web because, well, we are already on the Web.\n",
    "\n",
    "We have put a sample at http://rumbledb.org/samples/products-small.json that contains 100,000 small objects like:\n",
    "\n"
   ]
  },
  {
   "cell_type": "code",
   "execution_count": 8,
   "metadata": {},
   "outputs": [
    {
     "name": "stdout",
     "output_type": "stream",
     "text": [
      "Took: 5.183954954147339 ms\n",
      "{\"product\": \"blender\", \"store-number\": 20, \"quantity\": 920}\n"
     ]
    }
   ],
   "source": [
    "%%rumble\n",
    "json-file(\"http://rumbledb.org/samples/products-small.json\", 10)[1]"
   ]
  },
  {
   "cell_type": "markdown",
   "metadata": {},
   "source": [
    "The second parameter to json-file, 10, indicates to RumbleDB that it should organize the data in ten partitions after downloading it, and process it in parallel. If you were reading from HDFS or S3, the parallelization of these partitions would be pushed down to the distributed file system.\n",
    "\n",
    "JSONiq supports the relational algebra. For example, you can do a selection with a where clause, like so:"
   ]
  },
  {
   "cell_type": "code",
   "execution_count": 12,
   "metadata": {},
   "outputs": [
    {
     "name": "stdout",
     "output_type": "stream",
     "text": [
      "Took: 5.105026006698608 ms\n",
      "\"Warning! The output sequence contains 600 items but its materialization was capped at 200 items. This value can be configured with the result-size parameter in the query string of the HTTP request.\"\n",
      "{\"product\": \"toaster\", \"store-number\": 97, \"quantity\": 997}\n",
      "{\"product\": \"phone\", \"store-number\": 100, \"quantity\": 1000}\n",
      "{\"product\": \"tv\", \"store-number\": 96, \"quantity\": 996}\n",
      "{\"product\": \"socks\", \"store-number\": 99, \"quantity\": 999}\n",
      "{\"product\": \"shirt\", \"store-number\": 95, \"quantity\": 995}\n",
      "{\"product\": \"toaster\", \"store-number\": 98, \"quantity\": 998}\n",
      "{\"product\": \"tv\", \"store-number\": 97, \"quantity\": 997}\n",
      "{\"product\": \"socks\", \"store-number\": 100, \"quantity\": 1000}\n",
      "{\"product\": \"shirt\", \"store-number\": 96, \"quantity\": 996}\n",
      "{\"product\": \"toaster\", \"store-number\": 99, \"quantity\": 999}\n",
      "{\"product\": \"blender\", \"store-number\": 95, \"quantity\": 995}\n",
      "{\"product\": \"tv\", \"store-number\": 98, \"quantity\": 998}\n",
      "{\"product\": \"shirt\", \"store-number\": 97, \"quantity\": 997}\n",
      "{\"product\": \"toaster\", \"store-number\": 100, \"quantity\": 1000}\n",
      "{\"product\": \"blender\", \"store-number\": 96, \"quantity\": 996}\n",
      "{\"product\": \"tv\", \"store-number\": 99, \"quantity\": 999}\n",
      "{\"product\": \"broiler\", \"store-number\": 95, \"quantity\": 995}\n",
      "{\"product\": \"shirt\", \"store-number\": 98, \"quantity\": 998}\n",
      "{\"product\": \"blender\", \"store-number\": 97, \"quantity\": 997}\n",
      "{\"product\": \"tv\", \"store-number\": 100, \"quantity\": 1000}\n",
      "{\"product\": \"broiler\", \"store-number\": 96, \"quantity\": 996}\n",
      "{\"product\": \"shirt\", \"store-number\": 99, \"quantity\": 999}\n",
      "{\"product\": \"phone\", \"store-number\": 95, \"quantity\": 995}\n",
      "{\"product\": \"blender\", \"store-number\": 98, \"quantity\": 998}\n",
      "{\"product\": \"broiler\", \"store-number\": 97, \"quantity\": 997}\n",
      "{\"product\": \"shirt\", \"store-number\": 100, \"quantity\": 1000}\n",
      "{\"product\": \"phone\", \"store-number\": 96, \"quantity\": 996}\n",
      "{\"product\": \"blender\", \"store-number\": 99, \"quantity\": 999}\n",
      "{\"product\": \"socks\", \"store-number\": 95, \"quantity\": 995}\n",
      "{\"product\": \"broiler\", \"store-number\": 98, \"quantity\": 998}\n",
      "{\"product\": \"phone\", \"store-number\": 97, \"quantity\": 997}\n",
      "{\"product\": \"blender\", \"store-number\": 100, \"quantity\": 1000}\n",
      "{\"product\": \"socks\", \"store-number\": 96, \"quantity\": 996}\n",
      "{\"product\": \"broiler\", \"store-number\": 99, \"quantity\": 999}\n",
      "{\"product\": \"toaster\", \"store-number\": 95, \"quantity\": 995}\n",
      "{\"product\": \"phone\", \"store-number\": 98, \"quantity\": 998}\n",
      "{\"product\": \"socks\", \"store-number\": 97, \"quantity\": 997}\n",
      "{\"product\": \"broiler\", \"store-number\": 100, \"quantity\": 1000}\n",
      "{\"product\": \"toaster\", \"store-number\": 96, \"quantity\": 996}\n",
      "{\"product\": \"phone\", \"store-number\": 99, \"quantity\": 999}\n",
      "{\"product\": \"tv\", \"store-number\": 95, \"quantity\": 995}\n",
      "{\"product\": \"socks\", \"store-number\": 98, \"quantity\": 998}\n",
      "{\"product\": \"toaster\", \"store-number\": 97, \"quantity\": 997}\n",
      "{\"product\": \"phone\", \"store-number\": 100, \"quantity\": 1000}\n",
      "{\"product\": \"tv\", \"store-number\": 96, \"quantity\": 996}\n",
      "{\"product\": \"socks\", \"store-number\": 99, \"quantity\": 999}\n",
      "{\"product\": \"shirt\", \"store-number\": 95, \"quantity\": 995}\n",
      "{\"product\": \"toaster\", \"store-number\": 98, \"quantity\": 998}\n",
      "{\"product\": \"tv\", \"store-number\": 97, \"quantity\": 997}\n",
      "{\"product\": \"socks\", \"store-number\": 100, \"quantity\": 1000}\n",
      "{\"product\": \"shirt\", \"store-number\": 96, \"quantity\": 996}\n",
      "{\"product\": \"toaster\", \"store-number\": 99, \"quantity\": 999}\n",
      "{\"product\": \"blender\", \"store-number\": 95, \"quantity\": 995}\n",
      "{\"product\": \"tv\", \"store-number\": 98, \"quantity\": 998}\n",
      "{\"product\": \"shirt\", \"store-number\": 97, \"quantity\": 997}\n",
      "{\"product\": \"toaster\", \"store-number\": 100, \"quantity\": 1000}\n",
      "{\"product\": \"blender\", \"store-number\": 96, \"quantity\": 996}\n",
      "{\"product\": \"tv\", \"store-number\": 99, \"quantity\": 999}\n",
      "{\"product\": \"broiler\", \"store-number\": 95, \"quantity\": 995}\n",
      "{\"product\": \"shirt\", \"store-number\": 98, \"quantity\": 998}\n",
      "{\"product\": \"blender\", \"store-number\": 97, \"quantity\": 997}\n",
      "{\"product\": \"tv\", \"store-number\": 100, \"quantity\": 1000}\n",
      "{\"product\": \"broiler\", \"store-number\": 96, \"quantity\": 996}\n",
      "{\"product\": \"shirt\", \"store-number\": 99, \"quantity\": 999}\n",
      "{\"product\": \"phone\", \"store-number\": 95, \"quantity\": 995}\n",
      "{\"product\": \"blender\", \"store-number\": 98, \"quantity\": 998}\n",
      "{\"product\": \"broiler\", \"store-number\": 97, \"quantity\": 997}\n",
      "{\"product\": \"shirt\", \"store-number\": 100, \"quantity\": 1000}\n",
      "{\"product\": \"phone\", \"store-number\": 96, \"quantity\": 996}\n",
      "{\"product\": \"blender\", \"store-number\": 99, \"quantity\": 999}\n",
      "{\"product\": \"socks\", \"store-number\": 95, \"quantity\": 995}\n",
      "{\"product\": \"broiler\", \"store-number\": 98, \"quantity\": 998}\n",
      "{\"product\": \"phone\", \"store-number\": 97, \"quantity\": 997}\n",
      "{\"product\": \"blender\", \"store-number\": 100, \"quantity\": 1000}\n",
      "{\"product\": \"socks\", \"store-number\": 96, \"quantity\": 996}\n",
      "{\"product\": \"broiler\", \"store-number\": 99, \"quantity\": 999}\n",
      "{\"product\": \"toaster\", \"store-number\": 95, \"quantity\": 995}\n",
      "{\"product\": \"phone\", \"store-number\": 98, \"quantity\": 998}\n",
      "{\"product\": \"socks\", \"store-number\": 97, \"quantity\": 997}\n",
      "{\"product\": \"broiler\", \"store-number\": 100, \"quantity\": 1000}\n",
      "{\"product\": \"toaster\", \"store-number\": 96, \"quantity\": 996}\n",
      "{\"product\": \"phone\", \"store-number\": 99, \"quantity\": 999}\n",
      "{\"product\": \"tv\", \"store-number\": 95, \"quantity\": 995}\n",
      "{\"product\": \"socks\", \"store-number\": 98, \"quantity\": 998}\n",
      "{\"product\": \"toaster\", \"store-number\": 97, \"quantity\": 997}\n",
      "{\"product\": \"phone\", \"store-number\": 100, \"quantity\": 1000}\n",
      "{\"product\": \"tv\", \"store-number\": 96, \"quantity\": 996}\n",
      "{\"product\": \"socks\", \"store-number\": 99, \"quantity\": 999}\n",
      "{\"product\": \"shirt\", \"store-number\": 95, \"quantity\": 995}\n",
      "{\"product\": \"toaster\", \"store-number\": 98, \"quantity\": 998}\n",
      "{\"product\": \"tv\", \"store-number\": 97, \"quantity\": 997}\n",
      "{\"product\": \"socks\", \"store-number\": 100, \"quantity\": 1000}\n",
      "{\"product\": \"shirt\", \"store-number\": 96, \"quantity\": 996}\n",
      "{\"product\": \"toaster\", \"store-number\": 99, \"quantity\": 999}\n",
      "{\"product\": \"blender\", \"store-number\": 95, \"quantity\": 995}\n",
      "{\"product\": \"tv\", \"store-number\": 98, \"quantity\": 998}\n",
      "{\"product\": \"shirt\", \"store-number\": 97, \"quantity\": 997}\n",
      "{\"product\": \"toaster\", \"store-number\": 100, \"quantity\": 1000}\n",
      "{\"product\": \"blender\", \"store-number\": 96, \"quantity\": 996}\n",
      "{\"product\": \"tv\", \"store-number\": 99, \"quantity\": 999}\n",
      "{\"product\": \"broiler\", \"store-number\": 95, \"quantity\": 995}\n",
      "{\"product\": \"shirt\", \"store-number\": 98, \"quantity\": 998}\n",
      "{\"product\": \"blender\", \"store-number\": 97, \"quantity\": 997}\n",
      "{\"product\": \"tv\", \"store-number\": 100, \"quantity\": 1000}\n",
      "{\"product\": \"broiler\", \"store-number\": 96, \"quantity\": 996}\n",
      "{\"product\": \"shirt\", \"store-number\": 99, \"quantity\": 999}\n",
      "{\"product\": \"phone\", \"store-number\": 95, \"quantity\": 995}\n",
      "{\"product\": \"blender\", \"store-number\": 98, \"quantity\": 998}\n",
      "{\"product\": \"broiler\", \"store-number\": 97, \"quantity\": 997}\n",
      "{\"product\": \"shirt\", \"store-number\": 100, \"quantity\": 1000}\n",
      "{\"product\": \"phone\", \"store-number\": 96, \"quantity\": 996}\n",
      "{\"product\": \"blender\", \"store-number\": 99, \"quantity\": 999}\n",
      "{\"product\": \"socks\", \"store-number\": 95, \"quantity\": 995}\n",
      "{\"product\": \"broiler\", \"store-number\": 98, \"quantity\": 998}\n",
      "{\"product\": \"phone\", \"store-number\": 97, \"quantity\": 997}\n",
      "{\"product\": \"blender\", \"store-number\": 100, \"quantity\": 1000}\n",
      "{\"product\": \"socks\", \"store-number\": 96, \"quantity\": 996}\n",
      "{\"product\": \"broiler\", \"store-number\": 99, \"quantity\": 999}\n",
      "{\"product\": \"toaster\", \"store-number\": 95, \"quantity\": 995}\n",
      "{\"product\": \"phone\", \"store-number\": 98, \"quantity\": 998}\n",
      "{\"product\": \"socks\", \"store-number\": 97, \"quantity\": 997}\n",
      "{\"product\": \"broiler\", \"store-number\": 100, \"quantity\": 1000}\n",
      "{\"product\": \"toaster\", \"store-number\": 96, \"quantity\": 996}\n",
      "{\"product\": \"phone\", \"store-number\": 99, \"quantity\": 999}\n",
      "{\"product\": \"tv\", \"store-number\": 95, \"quantity\": 995}\n",
      "{\"product\": \"socks\", \"store-number\": 98, \"quantity\": 998}\n",
      "{\"product\": \"toaster\", \"store-number\": 97, \"quantity\": 997}\n",
      "{\"product\": \"phone\", \"store-number\": 100, \"quantity\": 1000}\n",
      "{\"product\": \"tv\", \"store-number\": 96, \"quantity\": 996}\n",
      "{\"product\": \"socks\", \"store-number\": 99, \"quantity\": 999}\n",
      "{\"product\": \"shirt\", \"store-number\": 95, \"quantity\": 995}\n",
      "{\"product\": \"toaster\", \"store-number\": 98, \"quantity\": 998}\n",
      "{\"product\": \"tv\", \"store-number\": 97, \"quantity\": 997}\n",
      "{\"product\": \"socks\", \"store-number\": 100, \"quantity\": 1000}\n",
      "{\"product\": \"shirt\", \"store-number\": 96, \"quantity\": 996}\n",
      "{\"product\": \"toaster\", \"store-number\": 99, \"quantity\": 999}\n",
      "{\"product\": \"blender\", \"store-number\": 95, \"quantity\": 995}\n",
      "{\"product\": \"tv\", \"store-number\": 98, \"quantity\": 998}\n",
      "{\"product\": \"shirt\", \"store-number\": 97, \"quantity\": 997}\n",
      "{\"product\": \"toaster\", \"store-number\": 100, \"quantity\": 1000}\n",
      "{\"product\": \"blender\", \"store-number\": 96, \"quantity\": 996}\n",
      "{\"product\": \"tv\", \"store-number\": 99, \"quantity\": 999}\n",
      "{\"product\": \"broiler\", \"store-number\": 95, \"quantity\": 995}\n",
      "{\"product\": \"shirt\", \"store-number\": 98, \"quantity\": 998}\n",
      "{\"product\": \"blender\", \"store-number\": 97, \"quantity\": 997}\n",
      "{\"product\": \"tv\", \"store-number\": 100, \"quantity\": 1000}\n",
      "{\"product\": \"broiler\", \"store-number\": 96, \"quantity\": 996}\n",
      "{\"product\": \"shirt\", \"store-number\": 99, \"quantity\": 999}\n",
      "{\"product\": \"phone\", \"store-number\": 95, \"quantity\": 995}\n",
      "{\"product\": \"blender\", \"store-number\": 98, \"quantity\": 998}\n",
      "{\"product\": \"broiler\", \"store-number\": 97, \"quantity\": 997}\n",
      "{\"product\": \"shirt\", \"store-number\": 100, \"quantity\": 1000}\n",
      "{\"product\": \"phone\", \"store-number\": 96, \"quantity\": 996}\n",
      "{\"product\": \"blender\", \"store-number\": 99, \"quantity\": 999}\n",
      "{\"product\": \"socks\", \"store-number\": 95, \"quantity\": 995}\n",
      "{\"product\": \"broiler\", \"store-number\": 98, \"quantity\": 998}\n",
      "{\"product\": \"phone\", \"store-number\": 97, \"quantity\": 997}\n",
      "{\"product\": \"blender\", \"store-number\": 100, \"quantity\": 1000}\n",
      "{\"product\": \"socks\", \"store-number\": 96, \"quantity\": 996}\n",
      "{\"product\": \"broiler\", \"store-number\": 99, \"quantity\": 999}\n",
      "{\"product\": \"toaster\", \"store-number\": 95, \"quantity\": 995}\n",
      "{\"product\": \"phone\", \"store-number\": 98, \"quantity\": 998}\n",
      "{\"product\": \"socks\", \"store-number\": 97, \"quantity\": 997}\n",
      "{\"product\": \"broiler\", \"store-number\": 100, \"quantity\": 1000}\n",
      "{\"product\": \"toaster\", \"store-number\": 96, \"quantity\": 996}\n",
      "{\"product\": \"phone\", \"store-number\": 99, \"quantity\": 999}\n",
      "{\"product\": \"tv\", \"store-number\": 95, \"quantity\": 995}\n",
      "{\"product\": \"socks\", \"store-number\": 98, \"quantity\": 998}\n",
      "{\"product\": \"toaster\", \"store-number\": 97, \"quantity\": 997}\n",
      "{\"product\": \"phone\", \"store-number\": 100, \"quantity\": 1000}\n",
      "{\"product\": \"tv\", \"store-number\": 96, \"quantity\": 996}\n",
      "{\"product\": \"socks\", \"store-number\": 99, \"quantity\": 999}\n",
      "{\"product\": \"shirt\", \"store-number\": 95, \"quantity\": 995}\n",
      "{\"product\": \"toaster\", \"store-number\": 98, \"quantity\": 998}\n",
      "{\"product\": \"tv\", \"store-number\": 97, \"quantity\": 997}\n",
      "{\"product\": \"socks\", \"store-number\": 100, \"quantity\": 1000}\n",
      "{\"product\": \"shirt\", \"store-number\": 96, \"quantity\": 996}\n",
      "{\"product\": \"toaster\", \"store-number\": 99, \"quantity\": 999}\n",
      "{\"product\": \"blender\", \"store-number\": 95, \"quantity\": 995}\n",
      "{\"product\": \"tv\", \"store-number\": 98, \"quantity\": 998}\n",
      "{\"product\": \"shirt\", \"store-number\": 97, \"quantity\": 997}\n",
      "{\"product\": \"toaster\", \"store-number\": 100, \"quantity\": 1000}\n",
      "{\"product\": \"blender\", \"store-number\": 96, \"quantity\": 996}\n",
      "{\"product\": \"tv\", \"store-number\": 99, \"quantity\": 999}\n",
      "{\"product\": \"broiler\", \"store-number\": 95, \"quantity\": 995}\n",
      "{\"product\": \"shirt\", \"store-number\": 98, \"quantity\": 998}\n",
      "{\"product\": \"blender\", \"store-number\": 97, \"quantity\": 997}\n",
      "{\"product\": \"tv\", \"store-number\": 100, \"quantity\": 1000}\n",
      "{\"product\": \"broiler\", \"store-number\": 96, \"quantity\": 996}\n",
      "{\"product\": \"shirt\", \"store-number\": 99, \"quantity\": 999}\n",
      "{\"product\": \"phone\", \"store-number\": 95, \"quantity\": 995}\n",
      "{\"product\": \"blender\", \"store-number\": 98, \"quantity\": 998}\n",
      "{\"product\": \"broiler\", \"store-number\": 97, \"quantity\": 997}\n",
      "{\"product\": \"shirt\", \"store-number\": 100, \"quantity\": 1000}\n",
      "{\"product\": \"phone\", \"store-number\": 96, \"quantity\": 996}\n",
      "{\"product\": \"blender\", \"store-number\": 99, \"quantity\": 999}\n",
      "{\"product\": \"socks\", \"store-number\": 95, \"quantity\": 995}\n",
      "{\"product\": \"broiler\", \"store-number\": 98, \"quantity\": 998}\n",
      "{\"product\": \"phone\", \"store-number\": 97, \"quantity\": 997}\n",
      "{\"product\": \"blender\", \"store-number\": 100, \"quantity\": 1000}\n"
     ]
    }
   ],
   "source": [
    "%%rumble\n",
    "for $product in json-file(\"http://rumbledb.org/samples/products-small.json\", 10)\n",
    "where $product.quantity ge 995\n",
    "return $product"
   ]
  },
  {
   "cell_type": "markdown",
   "metadata": {
    "collapsed": true
   },
   "source": [
    "Notice that by default only the first 200 items are shown. In a typical setup, it is possible to output the result of a query to a distributed system, so it is also possible to output all the results if needed. In this case, however, as this is printed on your screen, it is more convenient not to materialize the entire sequence.\n",
    "\n",
    "For a projection, there is project():"
   ]
  },
  {
   "cell_type": "code",
   "execution_count": 14,
   "metadata": {},
   "outputs": [
    {
     "name": "stdout",
     "output_type": "stream",
     "text": [
      "Took: 8.84467601776123 ms\n",
      "\"Warning! The output sequence contains 600 items but its materialization was capped at 200 items. This value can be configured with the result-size parameter in the query string of the HTTP request.\"\n",
      "{\"store-number\": 97, \"product\": \"toaster\"}\n",
      "{\"store-number\": 100, \"product\": \"phone\"}\n",
      "{\"store-number\": 96, \"product\": \"tv\"}\n",
      "{\"store-number\": 99, \"product\": \"socks\"}\n",
      "{\"store-number\": 95, \"product\": \"shirt\"}\n",
      "{\"store-number\": 98, \"product\": \"toaster\"}\n",
      "{\"store-number\": 97, \"product\": \"tv\"}\n",
      "{\"store-number\": 100, \"product\": \"socks\"}\n",
      "{\"store-number\": 96, \"product\": \"shirt\"}\n",
      "{\"store-number\": 99, \"product\": \"toaster\"}\n",
      "{\"store-number\": 95, \"product\": \"blender\"}\n",
      "{\"store-number\": 98, \"product\": \"tv\"}\n",
      "{\"store-number\": 97, \"product\": \"shirt\"}\n",
      "{\"store-number\": 100, \"product\": \"toaster\"}\n",
      "{\"store-number\": 96, \"product\": \"blender\"}\n",
      "{\"store-number\": 99, \"product\": \"tv\"}\n",
      "{\"store-number\": 95, \"product\": \"broiler\"}\n",
      "{\"store-number\": 98, \"product\": \"shirt\"}\n",
      "{\"store-number\": 97, \"product\": \"blender\"}\n",
      "{\"store-number\": 100, \"product\": \"tv\"}\n",
      "{\"store-number\": 96, \"product\": \"broiler\"}\n",
      "{\"store-number\": 99, \"product\": \"shirt\"}\n",
      "{\"store-number\": 95, \"product\": \"phone\"}\n",
      "{\"store-number\": 98, \"product\": \"blender\"}\n",
      "{\"store-number\": 97, \"product\": \"broiler\"}\n",
      "{\"store-number\": 100, \"product\": \"shirt\"}\n",
      "{\"store-number\": 96, \"product\": \"phone\"}\n",
      "{\"store-number\": 99, \"product\": \"blender\"}\n",
      "{\"store-number\": 95, \"product\": \"socks\"}\n",
      "{\"store-number\": 98, \"product\": \"broiler\"}\n",
      "{\"store-number\": 97, \"product\": \"phone\"}\n",
      "{\"store-number\": 100, \"product\": \"blender\"}\n",
      "{\"store-number\": 96, \"product\": \"socks\"}\n",
      "{\"store-number\": 99, \"product\": \"broiler\"}\n",
      "{\"store-number\": 95, \"product\": \"toaster\"}\n",
      "{\"store-number\": 98, \"product\": \"phone\"}\n",
      "{\"store-number\": 97, \"product\": \"socks\"}\n",
      "{\"store-number\": 100, \"product\": \"broiler\"}\n",
      "{\"store-number\": 96, \"product\": \"toaster\"}\n",
      "{\"store-number\": 99, \"product\": \"phone\"}\n",
      "{\"store-number\": 95, \"product\": \"tv\"}\n",
      "{\"store-number\": 98, \"product\": \"socks\"}\n",
      "{\"store-number\": 97, \"product\": \"toaster\"}\n",
      "{\"store-number\": 100, \"product\": \"phone\"}\n",
      "{\"store-number\": 96, \"product\": \"tv\"}\n",
      "{\"store-number\": 99, \"product\": \"socks\"}\n",
      "{\"store-number\": 95, \"product\": \"shirt\"}\n",
      "{\"store-number\": 98, \"product\": \"toaster\"}\n",
      "{\"store-number\": 97, \"product\": \"tv\"}\n",
      "{\"store-number\": 100, \"product\": \"socks\"}\n",
      "{\"store-number\": 96, \"product\": \"shirt\"}\n",
      "{\"store-number\": 99, \"product\": \"toaster\"}\n",
      "{\"store-number\": 95, \"product\": \"blender\"}\n",
      "{\"store-number\": 98, \"product\": \"tv\"}\n",
      "{\"store-number\": 97, \"product\": \"shirt\"}\n",
      "{\"store-number\": 100, \"product\": \"toaster\"}\n",
      "{\"store-number\": 96, \"product\": \"blender\"}\n",
      "{\"store-number\": 99, \"product\": \"tv\"}\n",
      "{\"store-number\": 95, \"product\": \"broiler\"}\n",
      "{\"store-number\": 98, \"product\": \"shirt\"}\n",
      "{\"store-number\": 97, \"product\": \"blender\"}\n",
      "{\"store-number\": 100, \"product\": \"tv\"}\n",
      "{\"store-number\": 96, \"product\": \"broiler\"}\n",
      "{\"store-number\": 99, \"product\": \"shirt\"}\n",
      "{\"store-number\": 95, \"product\": \"phone\"}\n",
      "{\"store-number\": 98, \"product\": \"blender\"}\n",
      "{\"store-number\": 97, \"product\": \"broiler\"}\n",
      "{\"store-number\": 100, \"product\": \"shirt\"}\n",
      "{\"store-number\": 96, \"product\": \"phone\"}\n",
      "{\"store-number\": 99, \"product\": \"blender\"}\n",
      "{\"store-number\": 95, \"product\": \"socks\"}\n",
      "{\"store-number\": 98, \"product\": \"broiler\"}\n",
      "{\"store-number\": 97, \"product\": \"phone\"}\n",
      "{\"store-number\": 100, \"product\": \"blender\"}\n",
      "{\"store-number\": 96, \"product\": \"socks\"}\n",
      "{\"store-number\": 99, \"product\": \"broiler\"}\n",
      "{\"store-number\": 95, \"product\": \"toaster\"}\n",
      "{\"store-number\": 98, \"product\": \"phone\"}\n",
      "{\"store-number\": 97, \"product\": \"socks\"}\n",
      "{\"store-number\": 100, \"product\": \"broiler\"}\n",
      "{\"store-number\": 96, \"product\": \"toaster\"}\n",
      "{\"store-number\": 99, \"product\": \"phone\"}\n",
      "{\"store-number\": 95, \"product\": \"tv\"}\n",
      "{\"store-number\": 98, \"product\": \"socks\"}\n",
      "{\"store-number\": 97, \"product\": \"toaster\"}\n",
      "{\"store-number\": 100, \"product\": \"phone\"}\n",
      "{\"store-number\": 96, \"product\": \"tv\"}\n",
      "{\"store-number\": 99, \"product\": \"socks\"}\n",
      "{\"store-number\": 95, \"product\": \"shirt\"}\n",
      "{\"store-number\": 98, \"product\": \"toaster\"}\n",
      "{\"store-number\": 97, \"product\": \"tv\"}\n",
      "{\"store-number\": 100, \"product\": \"socks\"}\n",
      "{\"store-number\": 96, \"product\": \"shirt\"}\n",
      "{\"store-number\": 99, \"product\": \"toaster\"}\n",
      "{\"store-number\": 95, \"product\": \"blender\"}\n",
      "{\"store-number\": 98, \"product\": \"tv\"}\n",
      "{\"store-number\": 97, \"product\": \"shirt\"}\n",
      "{\"store-number\": 100, \"product\": \"toaster\"}\n",
      "{\"store-number\": 96, \"product\": \"blender\"}\n",
      "{\"store-number\": 99, \"product\": \"tv\"}\n",
      "{\"store-number\": 95, \"product\": \"broiler\"}\n",
      "{\"store-number\": 98, \"product\": \"shirt\"}\n",
      "{\"store-number\": 97, \"product\": \"blender\"}\n",
      "{\"store-number\": 100, \"product\": \"tv\"}\n",
      "{\"store-number\": 96, \"product\": \"broiler\"}\n",
      "{\"store-number\": 99, \"product\": \"shirt\"}\n",
      "{\"store-number\": 95, \"product\": \"phone\"}\n",
      "{\"store-number\": 98, \"product\": \"blender\"}\n",
      "{\"store-number\": 97, \"product\": \"broiler\"}\n",
      "{\"store-number\": 100, \"product\": \"shirt\"}\n",
      "{\"store-number\": 96, \"product\": \"phone\"}\n",
      "{\"store-number\": 99, \"product\": \"blender\"}\n",
      "{\"store-number\": 95, \"product\": \"socks\"}\n",
      "{\"store-number\": 98, \"product\": \"broiler\"}\n",
      "{\"store-number\": 97, \"product\": \"phone\"}\n",
      "{\"store-number\": 100, \"product\": \"blender\"}\n",
      "{\"store-number\": 96, \"product\": \"socks\"}\n",
      "{\"store-number\": 99, \"product\": \"broiler\"}\n",
      "{\"store-number\": 95, \"product\": \"toaster\"}\n",
      "{\"store-number\": 98, \"product\": \"phone\"}\n",
      "{\"store-number\": 97, \"product\": \"socks\"}\n",
      "{\"store-number\": 100, \"product\": \"broiler\"}\n",
      "{\"store-number\": 96, \"product\": \"toaster\"}\n",
      "{\"store-number\": 99, \"product\": \"phone\"}\n",
      "{\"store-number\": 95, \"product\": \"tv\"}\n",
      "{\"store-number\": 98, \"product\": \"socks\"}\n",
      "{\"store-number\": 97, \"product\": \"toaster\"}\n",
      "{\"store-number\": 100, \"product\": \"phone\"}\n",
      "{\"store-number\": 96, \"product\": \"tv\"}\n",
      "{\"store-number\": 99, \"product\": \"socks\"}\n",
      "{\"store-number\": 95, \"product\": \"shirt\"}\n",
      "{\"store-number\": 98, \"product\": \"toaster\"}\n",
      "{\"store-number\": 97, \"product\": \"tv\"}\n",
      "{\"store-number\": 100, \"product\": \"socks\"}\n",
      "{\"store-number\": 96, \"product\": \"shirt\"}\n",
      "{\"store-number\": 99, \"product\": \"toaster\"}\n",
      "{\"store-number\": 95, \"product\": \"blender\"}\n",
      "{\"store-number\": 98, \"product\": \"tv\"}\n",
      "{\"store-number\": 97, \"product\": \"shirt\"}\n",
      "{\"store-number\": 100, \"product\": \"toaster\"}\n",
      "{\"store-number\": 96, \"product\": \"blender\"}\n",
      "{\"store-number\": 99, \"product\": \"tv\"}\n",
      "{\"store-number\": 95, \"product\": \"broiler\"}\n",
      "{\"store-number\": 98, \"product\": \"shirt\"}\n",
      "{\"store-number\": 97, \"product\": \"blender\"}\n",
      "{\"store-number\": 100, \"product\": \"tv\"}\n",
      "{\"store-number\": 96, \"product\": \"broiler\"}\n",
      "{\"store-number\": 99, \"product\": \"shirt\"}\n",
      "{\"store-number\": 95, \"product\": \"phone\"}\n",
      "{\"store-number\": 98, \"product\": \"blender\"}\n",
      "{\"store-number\": 97, \"product\": \"broiler\"}\n",
      "{\"store-number\": 100, \"product\": \"shirt\"}\n",
      "{\"store-number\": 96, \"product\": \"phone\"}\n",
      "{\"store-number\": 99, \"product\": \"blender\"}\n",
      "{\"store-number\": 95, \"product\": \"socks\"}\n",
      "{\"store-number\": 98, \"product\": \"broiler\"}\n",
      "{\"store-number\": 97, \"product\": \"phone\"}\n",
      "{\"store-number\": 100, \"product\": \"blender\"}\n",
      "{\"store-number\": 96, \"product\": \"socks\"}\n",
      "{\"store-number\": 99, \"product\": \"broiler\"}\n",
      "{\"store-number\": 95, \"product\": \"toaster\"}\n",
      "{\"store-number\": 98, \"product\": \"phone\"}\n",
      "{\"store-number\": 97, \"product\": \"socks\"}\n",
      "{\"store-number\": 100, \"product\": \"broiler\"}\n",
      "{\"store-number\": 96, \"product\": \"toaster\"}\n",
      "{\"store-number\": 99, \"product\": \"phone\"}\n",
      "{\"store-number\": 95, \"product\": \"tv\"}\n",
      "{\"store-number\": 98, \"product\": \"socks\"}\n",
      "{\"store-number\": 97, \"product\": \"toaster\"}\n",
      "{\"store-number\": 100, \"product\": \"phone\"}\n",
      "{\"store-number\": 96, \"product\": \"tv\"}\n",
      "{\"store-number\": 99, \"product\": \"socks\"}\n",
      "{\"store-number\": 95, \"product\": \"shirt\"}\n",
      "{\"store-number\": 98, \"product\": \"toaster\"}\n",
      "{\"store-number\": 97, \"product\": \"tv\"}\n",
      "{\"store-number\": 100, \"product\": \"socks\"}\n",
      "{\"store-number\": 96, \"product\": \"shirt\"}\n",
      "{\"store-number\": 99, \"product\": \"toaster\"}\n",
      "{\"store-number\": 95, \"product\": \"blender\"}\n",
      "{\"store-number\": 98, \"product\": \"tv\"}\n",
      "{\"store-number\": 97, \"product\": \"shirt\"}\n",
      "{\"store-number\": 100, \"product\": \"toaster\"}\n",
      "{\"store-number\": 96, \"product\": \"blender\"}\n",
      "{\"store-number\": 99, \"product\": \"tv\"}\n",
      "{\"store-number\": 95, \"product\": \"broiler\"}\n",
      "{\"store-number\": 98, \"product\": \"shirt\"}\n",
      "{\"store-number\": 97, \"product\": \"blender\"}\n",
      "{\"store-number\": 100, \"product\": \"tv\"}\n",
      "{\"store-number\": 96, \"product\": \"broiler\"}\n",
      "{\"store-number\": 99, \"product\": \"shirt\"}\n",
      "{\"store-number\": 95, \"product\": \"phone\"}\n",
      "{\"store-number\": 98, \"product\": \"blender\"}\n",
      "{\"store-number\": 97, \"product\": \"broiler\"}\n",
      "{\"store-number\": 100, \"product\": \"shirt\"}\n",
      "{\"store-number\": 96, \"product\": \"phone\"}\n",
      "{\"store-number\": 99, \"product\": \"blender\"}\n",
      "{\"store-number\": 95, \"product\": \"socks\"}\n",
      "{\"store-number\": 98, \"product\": \"broiler\"}\n",
      "{\"store-number\": 97, \"product\": \"phone\"}\n",
      "{\"store-number\": 100, \"product\": \"blender\"}\n"
     ]
    }
   ],
   "source": [
    "%%rumble\n",
    "for $product in json-file(\"http://rumbledb.org/samples/products-small.json\", 10)\n",
    "where $product.quantity ge 995\n",
    "return project($product, (\"store-number\", \"product\"))"
   ]
  },
  {
   "cell_type": "markdown",
   "metadata": {},
   "source": [
    "You can also page the results (like OFFSET and LIMIT in SQL) with a count clause and a where clause"
   ]
  },
  {
   "cell_type": "code",
   "execution_count": 15,
   "metadata": {},
   "outputs": [
    {
     "name": "stdout",
     "output_type": "stream",
     "text": [
      "Took: 11.857532024383545 ms\n",
      "{\"store-number\": 95, \"product\": \"blender\"}\n",
      "{\"store-number\": 98, \"product\": \"tv\"}\n",
      "{\"store-number\": 97, \"product\": \"shirt\"}\n",
      "{\"store-number\": 100, \"product\": \"toaster\"}\n",
      "{\"store-number\": 96, \"product\": \"blender\"}\n",
      "{\"store-number\": 99, \"product\": \"tv\"}\n",
      "{\"store-number\": 95, \"product\": \"broiler\"}\n",
      "{\"store-number\": 98, \"product\": \"shirt\"}\n",
      "{\"store-number\": 97, \"product\": \"blender\"}\n",
      "{\"store-number\": 100, \"product\": \"tv\"}\n"
     ]
    }
   ],
   "source": [
    "%%rumble\n",
    "for $product in json-file(\"http://rumbledb.org/samples/products-small.json\", 10)\n",
    "where $product.quantity ge 995\n",
    "count $c\n",
    "where $c gt 10 and $c le 20\n",
    "return project($product, (\"store-number\", \"product\"))"
   ]
  },
  {
   "cell_type": "markdown",
   "metadata": {},
   "source": [
    "JSONiq also supports grouping with a group by clause:"
   ]
  },
  {
   "cell_type": "code",
   "execution_count": 17,
   "metadata": {},
   "outputs": [
    {
     "name": "stdout",
     "output_type": "stream",
     "text": [
      "Took: 7.4556567668914795 ms\n",
      "{\"store\": 64, \"count\": 1000}\n",
      "{\"store\": 68, \"count\": 1000}\n",
      "{\"store\": 42, \"count\": 1000}\n",
      "{\"store\": 83, \"count\": 1000}\n",
      "{\"store\": 54, \"count\": 1000}\n",
      "{\"store\": 82, \"count\": 1000}\n",
      "{\"store\": 96, \"count\": 1000}\n",
      "{\"store\": 78, \"count\": 1000}\n",
      "{\"store\": 41, \"count\": 1000}\n",
      "{\"store\": 89, \"count\": 1000}\n",
      "{\"store\": 62, \"count\": 1000}\n",
      "{\"store\": 86, \"count\": 1000}\n",
      "{\"store\": 58, \"count\": 1000}\n",
      "{\"store\": 66, \"count\": 1000}\n",
      "{\"store\": 70, \"count\": 1000}\n",
      "{\"store\": 91, \"count\": 1000}\n",
      "{\"store\": 100, \"count\": 1000}\n",
      "{\"store\": 49, \"count\": 1000}\n",
      "{\"store\": 14, \"count\": 1000}\n",
      "{\"store\": 88, \"count\": 1000}\n",
      "{\"store\": 97, \"count\": 1000}\n",
      "{\"store\": 67, \"count\": 1000}\n",
      "{\"store\": 15, \"count\": 1000}\n",
      "{\"store\": 12, \"count\": 1000}\n",
      "{\"store\": 4, \"count\": 1000}\n",
      "{\"store\": 11, \"count\": 1000}\n",
      "{\"store\": 74, \"count\": 1000}\n",
      "{\"store\": 92, \"count\": 1000}\n",
      "{\"store\": 5, \"count\": 1000}\n",
      "{\"store\": 63, \"count\": 1000}\n",
      "{\"store\": 19, \"count\": 1000}\n",
      "{\"store\": 2, \"count\": 1000}\n",
      "{\"store\": 10, \"count\": 1000}\n",
      "{\"store\": 37, \"count\": 1000}\n",
      "{\"store\": 59, \"count\": 1000}\n",
      "{\"store\": 73, \"count\": 1000}\n",
      "{\"store\": 7, \"count\": 1000}\n",
      "{\"store\": 61, \"count\": 1000}\n",
      "{\"store\": 56, \"count\": 1000}\n",
      "{\"store\": 94, \"count\": 1000}\n",
      "{\"store\": 1, \"count\": 1000}\n",
      "{\"store\": 79, \"count\": 1000}\n",
      "{\"store\": 9, \"count\": 1000}\n",
      "{\"store\": 17, \"count\": 1000}\n",
      "{\"store\": 23, \"count\": 1000}\n",
      "{\"store\": 40, \"count\": 1000}\n",
      "{\"store\": 16, \"count\": 1000}\n",
      "{\"store\": 50, \"count\": 1000}\n",
      "{\"store\": 48, \"count\": 1000}\n",
      "{\"store\": 75, \"count\": 1000}\n",
      "{\"store\": 32, \"count\": 1000}\n",
      "{\"store\": 39, \"count\": 1000}\n",
      "{\"store\": 76, \"count\": 1000}\n",
      "{\"store\": 93, \"count\": 1000}\n",
      "{\"store\": 36, \"count\": 1000}\n",
      "{\"store\": 53, \"count\": 1000}\n",
      "{\"store\": 80, \"count\": 1000}\n",
      "{\"store\": 31, \"count\": 1000}\n",
      "{\"store\": 98, \"count\": 1000}\n",
      "{\"store\": 45, \"count\": 1000}\n",
      "{\"store\": 38, \"count\": 1000}\n",
      "{\"store\": 33, \"count\": 1000}\n",
      "{\"store\": 60, \"count\": 1000}\n",
      "{\"store\": 29, \"count\": 1000}\n",
      "{\"store\": 47, \"count\": 1000}\n",
      "{\"store\": 95, \"count\": 1000}\n",
      "{\"store\": 69, \"count\": 1000}\n",
      "{\"store\": 25, \"count\": 1000}\n",
      "{\"store\": 13, \"count\": 1000}\n",
      "{\"store\": 18, \"count\": 1000}\n",
      "{\"store\": 84, \"count\": 1000}\n",
      "{\"store\": 34, \"count\": 1000}\n",
      "{\"store\": 46, \"count\": 1000}\n",
      "{\"store\": 51, \"count\": 1000}\n",
      "{\"store\": 71, \"count\": 1000}\n",
      "{\"store\": 99, \"count\": 1000}\n",
      "{\"store\": 52, \"count\": 1000}\n",
      "{\"store\": 90, \"count\": 1000}\n",
      "{\"store\": 24, \"count\": 1000}\n",
      "{\"store\": 8, \"count\": 1000}\n",
      "{\"store\": 77, \"count\": 1000}\n",
      "{\"store\": 28, \"count\": 1000}\n",
      "{\"store\": 85, \"count\": 1000}\n",
      "{\"store\": 6, \"count\": 1000}\n",
      "{\"store\": 3, \"count\": 1000}\n",
      "{\"store\": 44, \"count\": 1000}\n",
      "{\"store\": 55, \"count\": 1000}\n",
      "{\"store\": 81, \"count\": 1000}\n",
      "{\"store\": 72, \"count\": 1000}\n",
      "{\"store\": 21, \"count\": 1000}\n",
      "{\"store\": 22, \"count\": 1000}\n",
      "{\"store\": 57, \"count\": 1000}\n",
      "{\"store\": 87, \"count\": 1000}\n",
      "{\"store\": 43, \"count\": 1000}\n",
      "{\"store\": 20, \"count\": 1000}\n",
      "{\"store\": 65, \"count\": 1000}\n",
      "{\"store\": 27, \"count\": 1000}\n",
      "{\"store\": 26, \"count\": 1000}\n",
      "{\"store\": 35, \"count\": 1000}\n",
      "{\"store\": 30, \"count\": 1000}\n"
     ]
    }
   ],
   "source": [
    "%%rumble\n",
    "for $product in json-file(\"http://rumbledb.org/samples/products-small.json\", 10)\n",
    "group by $store-number := $product.store-number\n",
    "return {\n",
    "    \"store\" : $store-number,\n",
    "    \"count\" : count($product)\n",
    "}"
   ]
  },
  {
   "cell_type": "markdown",
   "metadata": {},
   "source": [
    "As well as ordering with an order by clause:"
   ]
  },
  {
   "cell_type": "code",
   "execution_count": 18,
   "metadata": {},
   "outputs": [
    {
     "name": "stdout",
     "output_type": "stream",
     "text": [
      "Took: 9.933311939239502 ms\n",
      "{\"store\": 1, \"count\": 1000}\n",
      "{\"store\": 2, \"count\": 1000}\n",
      "{\"store\": 3, \"count\": 1000}\n",
      "{\"store\": 4, \"count\": 1000}\n",
      "{\"store\": 5, \"count\": 1000}\n",
      "{\"store\": 6, \"count\": 1000}\n",
      "{\"store\": 7, \"count\": 1000}\n",
      "{\"store\": 8, \"count\": 1000}\n",
      "{\"store\": 9, \"count\": 1000}\n",
      "{\"store\": 10, \"count\": 1000}\n",
      "{\"store\": 11, \"count\": 1000}\n",
      "{\"store\": 12, \"count\": 1000}\n",
      "{\"store\": 13, \"count\": 1000}\n",
      "{\"store\": 14, \"count\": 1000}\n",
      "{\"store\": 15, \"count\": 1000}\n",
      "{\"store\": 16, \"count\": 1000}\n",
      "{\"store\": 17, \"count\": 1000}\n",
      "{\"store\": 18, \"count\": 1000}\n",
      "{\"store\": 19, \"count\": 1000}\n",
      "{\"store\": 20, \"count\": 1000}\n",
      "{\"store\": 21, \"count\": 1000}\n",
      "{\"store\": 22, \"count\": 1000}\n",
      "{\"store\": 23, \"count\": 1000}\n",
      "{\"store\": 24, \"count\": 1000}\n",
      "{\"store\": 25, \"count\": 1000}\n",
      "{\"store\": 26, \"count\": 1000}\n",
      "{\"store\": 27, \"count\": 1000}\n",
      "{\"store\": 28, \"count\": 1000}\n",
      "{\"store\": 29, \"count\": 1000}\n",
      "{\"store\": 30, \"count\": 1000}\n",
      "{\"store\": 31, \"count\": 1000}\n",
      "{\"store\": 32, \"count\": 1000}\n",
      "{\"store\": 33, \"count\": 1000}\n",
      "{\"store\": 34, \"count\": 1000}\n",
      "{\"store\": 35, \"count\": 1000}\n",
      "{\"store\": 36, \"count\": 1000}\n",
      "{\"store\": 37, \"count\": 1000}\n",
      "{\"store\": 38, \"count\": 1000}\n",
      "{\"store\": 39, \"count\": 1000}\n",
      "{\"store\": 40, \"count\": 1000}\n",
      "{\"store\": 41, \"count\": 1000}\n",
      "{\"store\": 42, \"count\": 1000}\n",
      "{\"store\": 43, \"count\": 1000}\n",
      "{\"store\": 44, \"count\": 1000}\n",
      "{\"store\": 45, \"count\": 1000}\n",
      "{\"store\": 46, \"count\": 1000}\n",
      "{\"store\": 47, \"count\": 1000}\n",
      "{\"store\": 48, \"count\": 1000}\n",
      "{\"store\": 49, \"count\": 1000}\n",
      "{\"store\": 50, \"count\": 1000}\n",
      "{\"store\": 51, \"count\": 1000}\n",
      "{\"store\": 52, \"count\": 1000}\n",
      "{\"store\": 53, \"count\": 1000}\n",
      "{\"store\": 54, \"count\": 1000}\n",
      "{\"store\": 55, \"count\": 1000}\n",
      "{\"store\": 56, \"count\": 1000}\n",
      "{\"store\": 57, \"count\": 1000}\n",
      "{\"store\": 58, \"count\": 1000}\n",
      "{\"store\": 59, \"count\": 1000}\n",
      "{\"store\": 60, \"count\": 1000}\n",
      "{\"store\": 61, \"count\": 1000}\n",
      "{\"store\": 62, \"count\": 1000}\n",
      "{\"store\": 63, \"count\": 1000}\n",
      "{\"store\": 64, \"count\": 1000}\n",
      "{\"store\": 65, \"count\": 1000}\n",
      "{\"store\": 66, \"count\": 1000}\n",
      "{\"store\": 67, \"count\": 1000}\n",
      "{\"store\": 68, \"count\": 1000}\n",
      "{\"store\": 69, \"count\": 1000}\n",
      "{\"store\": 70, \"count\": 1000}\n",
      "{\"store\": 71, \"count\": 1000}\n",
      "{\"store\": 72, \"count\": 1000}\n",
      "{\"store\": 73, \"count\": 1000}\n",
      "{\"store\": 74, \"count\": 1000}\n",
      "{\"store\": 75, \"count\": 1000}\n",
      "{\"store\": 76, \"count\": 1000}\n",
      "{\"store\": 77, \"count\": 1000}\n",
      "{\"store\": 78, \"count\": 1000}\n",
      "{\"store\": 79, \"count\": 1000}\n",
      "{\"store\": 80, \"count\": 1000}\n",
      "{\"store\": 81, \"count\": 1000}\n",
      "{\"store\": 82, \"count\": 1000}\n",
      "{\"store\": 83, \"count\": 1000}\n",
      "{\"store\": 84, \"count\": 1000}\n",
      "{\"store\": 85, \"count\": 1000}\n",
      "{\"store\": 86, \"count\": 1000}\n",
      "{\"store\": 87, \"count\": 1000}\n",
      "{\"store\": 88, \"count\": 1000}\n",
      "{\"store\": 89, \"count\": 1000}\n",
      "{\"store\": 90, \"count\": 1000}\n",
      "{\"store\": 91, \"count\": 1000}\n",
      "{\"store\": 92, \"count\": 1000}\n",
      "{\"store\": 93, \"count\": 1000}\n",
      "{\"store\": 94, \"count\": 1000}\n",
      "{\"store\": 95, \"count\": 1000}\n",
      "{\"store\": 96, \"count\": 1000}\n",
      "{\"store\": 97, \"count\": 1000}\n",
      "{\"store\": 98, \"count\": 1000}\n",
      "{\"store\": 99, \"count\": 1000}\n",
      "{\"store\": 100, \"count\": 1000}\n"
     ]
    }
   ],
   "source": [
    "%%rumble\n",
    "for $product in json-file(\"http://rumbledb.org/samples/products-small.json\", 10)\n",
    "group by $store-number := $product.store-number\n",
    "order by $store-number ascending\n",
    "return {\n",
    "    \"store\" : $store-number,\n",
    "    \"count\" : count($product)\n",
    "}"
   ]
  },
  {
   "cell_type": "markdown",
   "metadata": {},
   "source": [
    "JSONiq supports denormalized data, so you are not forced to aggregate after a grouping, you can also nest data like so:"
   ]
  },
  {
   "cell_type": "code",
   "execution_count": 19,
   "metadata": {},
   "outputs": [
    {
     "name": "stdout",
     "output_type": "stream",
     "text": [
      "Took: 11.702539920806885 ms\n",
      "{\"store\": 1, \"products\": [\"shirt\", \"toaster\", \"phone\", \"blender\", \"tv\", \"socks\", \"broiler\"]}\n",
      "{\"store\": 2, \"products\": [\"shirt\", \"toaster\", \"phone\", \"blender\", \"tv\", \"socks\", \"broiler\"]}\n",
      "{\"store\": 3, \"products\": [\"shirt\", \"toaster\", \"phone\", \"blender\", \"tv\", \"socks\", \"broiler\"]}\n",
      "{\"store\": 4, \"products\": [\"shirt\", \"toaster\", \"phone\", \"blender\", \"tv\", \"socks\", \"broiler\"]}\n",
      "{\"store\": 5, \"products\": [\"shirt\", \"toaster\", \"phone\", \"blender\", \"tv\", \"socks\", \"broiler\"]}\n",
      "{\"store\": 6, \"products\": [\"toaster\", \"phone\", \"blender\", \"tv\", \"socks\", \"broiler\", \"shirt\"]}\n",
      "{\"store\": 7, \"products\": [\"toaster\", \"phone\", \"blender\", \"tv\", \"socks\", \"broiler\", \"shirt\"]}\n",
      "{\"store\": 8, \"products\": [\"toaster\", \"phone\", \"blender\", \"tv\", \"socks\", \"broiler\", \"shirt\"]}\n",
      "{\"store\": 9, \"products\": [\"toaster\", \"phone\", \"blender\", \"tv\", \"socks\", \"broiler\", \"shirt\"]}\n",
      "{\"store\": 10, \"products\": [\"toaster\", \"phone\", \"blender\", \"tv\", \"socks\", \"broiler\", \"shirt\"]}\n",
      "{\"store\": 11, \"products\": [\"phone\", \"blender\", \"tv\", \"socks\", \"broiler\", \"shirt\", \"toaster\"]}\n",
      "{\"store\": 12, \"products\": [\"phone\", \"blender\", \"tv\", \"socks\", \"broiler\", \"shirt\", \"toaster\"]}\n",
      "{\"store\": 13, \"products\": [\"phone\", \"blender\", \"tv\", \"socks\", \"broiler\", \"shirt\", \"toaster\"]}\n",
      "{\"store\": 14, \"products\": [\"phone\", \"blender\", \"tv\", \"socks\", \"broiler\", \"shirt\", \"toaster\"]}\n",
      "{\"store\": 15, \"products\": [\"phone\", \"blender\", \"tv\", \"socks\", \"broiler\", \"shirt\", \"toaster\"]}\n",
      "{\"store\": 16, \"products\": [\"blender\", \"tv\", \"socks\", \"broiler\", \"shirt\", \"toaster\", \"phone\"]}\n",
      "{\"store\": 17, \"products\": [\"blender\", \"tv\", \"socks\", \"broiler\", \"shirt\", \"toaster\", \"phone\"]}\n",
      "{\"store\": 18, \"products\": [\"blender\", \"tv\", \"socks\", \"broiler\", \"shirt\", \"toaster\", \"phone\"]}\n",
      "{\"store\": 19, \"products\": [\"blender\", \"tv\", \"socks\", \"broiler\", \"shirt\", \"toaster\", \"phone\"]}\n",
      "{\"store\": 20, \"products\": [\"blender\", \"tv\", \"socks\", \"broiler\", \"shirt\", \"toaster\", \"phone\"]}\n",
      "{\"store\": 21, \"products\": [\"tv\", \"socks\", \"broiler\", \"shirt\", \"toaster\", \"phone\", \"blender\"]}\n",
      "{\"store\": 22, \"products\": [\"tv\", \"socks\", \"broiler\", \"shirt\", \"toaster\", \"phone\", \"blender\"]}\n",
      "{\"store\": 23, \"products\": [\"tv\", \"socks\", \"broiler\", \"shirt\", \"toaster\", \"phone\", \"blender\"]}\n",
      "{\"store\": 24, \"products\": [\"tv\", \"socks\", \"broiler\", \"shirt\", \"toaster\", \"phone\", \"blender\"]}\n",
      "{\"store\": 25, \"products\": [\"socks\", \"broiler\", \"shirt\", \"toaster\", \"phone\", \"blender\", \"tv\"]}\n",
      "{\"store\": 26, \"products\": [\"socks\", \"broiler\", \"shirt\", \"toaster\", \"phone\", \"blender\", \"tv\"]}\n",
      "{\"store\": 27, \"products\": [\"socks\", \"broiler\", \"shirt\", \"toaster\", \"phone\", \"blender\", \"tv\"]}\n",
      "{\"store\": 28, \"products\": [\"socks\", \"broiler\", \"shirt\", \"toaster\", \"phone\", \"blender\", \"tv\"]}\n",
      "{\"store\": 29, \"products\": [\"socks\", \"broiler\", \"shirt\", \"toaster\", \"phone\", \"blender\", \"tv\"]}\n",
      "{\"store\": 30, \"products\": [\"broiler\", \"shirt\", \"toaster\", \"phone\", \"blender\", \"tv\", \"socks\"]}\n",
      "{\"store\": 31, \"products\": [\"broiler\", \"shirt\", \"toaster\", \"phone\", \"blender\", \"tv\", \"socks\"]}\n",
      "{\"store\": 32, \"products\": [\"broiler\", \"shirt\", \"toaster\", \"phone\", \"blender\", \"tv\", \"socks\"]}\n",
      "{\"store\": 33, \"products\": [\"broiler\", \"shirt\", \"toaster\", \"phone\", \"blender\", \"tv\", \"socks\"]}\n",
      "{\"store\": 34, \"products\": [\"broiler\", \"shirt\", \"toaster\", \"phone\", \"blender\", \"tv\", \"socks\"]}\n",
      "{\"store\": 35, \"products\": [\"shirt\", \"toaster\", \"phone\", \"blender\", \"tv\", \"socks\", \"broiler\"]}\n",
      "{\"store\": 36, \"products\": [\"shirt\", \"toaster\", \"phone\", \"blender\", \"tv\", \"socks\", \"broiler\"]}\n",
      "{\"store\": 37, \"products\": [\"shirt\", \"toaster\", \"phone\", \"blender\", \"tv\", \"socks\", \"broiler\"]}\n",
      "{\"store\": 38, \"products\": [\"shirt\", \"toaster\", \"phone\", \"blender\", \"tv\", \"socks\", \"broiler\"]}\n",
      "{\"store\": 39, \"products\": [\"shirt\", \"toaster\", \"phone\", \"blender\", \"tv\", \"socks\", \"broiler\"]}\n",
      "{\"store\": 40, \"products\": [\"toaster\", \"phone\", \"blender\", \"tv\", \"socks\", \"broiler\", \"shirt\"]}\n",
      "{\"store\": 41, \"products\": [\"toaster\", \"phone\", \"blender\", \"tv\", \"socks\", \"broiler\", \"shirt\"]}\n",
      "{\"store\": 42, \"products\": [\"toaster\", \"phone\", \"blender\", \"tv\", \"socks\", \"broiler\", \"shirt\"]}\n",
      "{\"store\": 43, \"products\": [\"toaster\", \"phone\", \"blender\", \"tv\", \"socks\", \"broiler\", \"shirt\"]}\n",
      "{\"store\": 44, \"products\": [\"phone\", \"blender\", \"tv\", \"socks\", \"broiler\", \"shirt\", \"toaster\"]}\n",
      "{\"store\": 45, \"products\": [\"phone\", \"blender\", \"tv\", \"socks\", \"broiler\", \"shirt\", \"toaster\"]}\n",
      "{\"store\": 46, \"products\": [\"phone\", \"blender\", \"tv\", \"socks\", \"broiler\", \"shirt\", \"toaster\"]}\n",
      "{\"store\": 47, \"products\": [\"phone\", \"blender\", \"tv\", \"socks\", \"broiler\", \"shirt\", \"toaster\"]}\n",
      "{\"store\": 48, \"products\": [\"phone\", \"blender\", \"tv\", \"socks\", \"broiler\", \"shirt\", \"toaster\"]}\n",
      "{\"store\": 49, \"products\": [\"blender\", \"tv\", \"socks\", \"broiler\", \"shirt\", \"toaster\", \"phone\"]}\n",
      "{\"store\": 50, \"products\": [\"blender\", \"tv\", \"socks\", \"broiler\", \"shirt\", \"toaster\", \"phone\"]}\n",
      "{\"store\": 51, \"products\": [\"blender\", \"tv\", \"socks\", \"broiler\", \"shirt\", \"toaster\", \"phone\"]}\n",
      "{\"store\": 52, \"products\": [\"blender\", \"tv\", \"socks\", \"broiler\", \"shirt\", \"toaster\", \"phone\"]}\n",
      "{\"store\": 53, \"products\": [\"blender\", \"tv\", \"socks\", \"broiler\", \"shirt\", \"toaster\", \"phone\"]}\n",
      "{\"store\": 54, \"products\": [\"tv\", \"socks\", \"broiler\", \"shirt\", \"toaster\", \"phone\", \"blender\"]}\n",
      "{\"store\": 55, \"products\": [\"tv\", \"socks\", \"broiler\", \"shirt\", \"toaster\", \"phone\", \"blender\"]}\n",
      "{\"store\": 56, \"products\": [\"tv\", \"socks\", \"broiler\", \"shirt\", \"toaster\", \"phone\", \"blender\"]}\n",
      "{\"store\": 57, \"products\": [\"tv\", \"socks\", \"broiler\", \"shirt\", \"toaster\", \"phone\", \"blender\"]}\n",
      "{\"store\": 58, \"products\": [\"tv\", \"socks\", \"broiler\", \"shirt\", \"toaster\", \"phone\", \"blender\"]}\n",
      "{\"store\": 59, \"products\": [\"socks\", \"broiler\", \"shirt\", \"toaster\", \"phone\", \"blender\", \"tv\"]}\n",
      "{\"store\": 60, \"products\": [\"socks\", \"broiler\", \"shirt\", \"toaster\", \"phone\", \"blender\", \"tv\"]}\n",
      "{\"store\": 61, \"products\": [\"socks\", \"broiler\", \"shirt\", \"toaster\", \"phone\", \"blender\", \"tv\"]}\n",
      "{\"store\": 62, \"products\": [\"socks\", \"broiler\", \"shirt\", \"toaster\", \"phone\", \"blender\", \"tv\"]}\n",
      "{\"store\": 63, \"products\": [\"broiler\", \"shirt\", \"toaster\", \"phone\", \"blender\", \"tv\", \"socks\"]}\n",
      "{\"store\": 64, \"products\": [\"broiler\", \"shirt\", \"toaster\", \"phone\", \"blender\", \"tv\", \"socks\"]}\n",
      "{\"store\": 65, \"products\": [\"broiler\", \"shirt\", \"toaster\", \"phone\", \"blender\", \"tv\", \"socks\"]}\n",
      "{\"store\": 66, \"products\": [\"broiler\", \"shirt\", \"toaster\", \"phone\", \"blender\", \"tv\", \"socks\"]}\n",
      "{\"store\": 67, \"products\": [\"broiler\", \"shirt\", \"toaster\", \"phone\", \"blender\", \"tv\", \"socks\"]}\n",
      "{\"store\": 68, \"products\": [\"shirt\", \"toaster\", \"phone\", \"blender\", \"tv\", \"socks\", \"broiler\"]}\n",
      "{\"store\": 69, \"products\": [\"shirt\", \"toaster\", \"phone\", \"blender\", \"tv\", \"socks\", \"broiler\"]}\n",
      "{\"store\": 70, \"products\": [\"shirt\", \"toaster\", \"phone\", \"blender\", \"tv\", \"socks\", \"broiler\"]}\n",
      "{\"store\": 71, \"products\": [\"shirt\", \"toaster\", \"phone\", \"blender\", \"tv\", \"socks\", \"broiler\"]}\n",
      "{\"store\": 72, \"products\": [\"shirt\", \"toaster\", \"phone\", \"blender\", \"tv\", \"socks\", \"broiler\"]}\n",
      "{\"store\": 73, \"products\": [\"toaster\", \"phone\", \"blender\", \"tv\", \"socks\", \"broiler\", \"shirt\"]}\n",
      "{\"store\": 74, \"products\": [\"toaster\", \"phone\", \"blender\", \"tv\", \"socks\", \"broiler\", \"shirt\"]}\n",
      "{\"store\": 75, \"products\": [\"toaster\", \"phone\", \"blender\", \"tv\", \"socks\", \"broiler\", \"shirt\"]}\n",
      "{\"store\": 76, \"products\": [\"toaster\", \"phone\", \"blender\", \"tv\", \"socks\", \"broiler\", \"shirt\"]}\n",
      "{\"store\": 77, \"products\": [\"toaster\", \"phone\", \"blender\", \"tv\", \"socks\", \"broiler\", \"shirt\"]}\n",
      "{\"store\": 78, \"products\": [\"phone\", \"blender\", \"tv\", \"socks\", \"broiler\", \"shirt\", \"toaster\"]}\n",
      "{\"store\": 79, \"products\": [\"phone\", \"blender\", \"tv\", \"socks\", \"broiler\", \"shirt\", \"toaster\"]}\n",
      "{\"store\": 80, \"products\": [\"phone\", \"blender\", \"tv\", \"socks\", \"broiler\", \"shirt\", \"toaster\"]}\n",
      "{\"store\": 81, \"products\": [\"phone\", \"blender\", \"tv\", \"socks\", \"broiler\", \"shirt\", \"toaster\"]}\n",
      "{\"store\": 82, \"products\": [\"blender\", \"tv\", \"socks\", \"broiler\", \"shirt\", \"toaster\", \"phone\"]}\n",
      "{\"store\": 83, \"products\": [\"blender\", \"tv\", \"socks\", \"broiler\", \"shirt\", \"toaster\", \"phone\"]}\n",
      "{\"store\": 84, \"products\": [\"blender\", \"tv\", \"socks\", \"broiler\", \"shirt\", \"toaster\", \"phone\"]}\n",
      "{\"store\": 85, \"products\": [\"blender\", \"tv\", \"socks\", \"broiler\", \"shirt\", \"toaster\", \"phone\"]}\n",
      "{\"store\": 86, \"products\": [\"blender\", \"tv\", \"socks\", \"broiler\", \"shirt\", \"toaster\", \"phone\"]}\n",
      "{\"store\": 87, \"products\": [\"tv\", \"socks\", \"broiler\", \"shirt\", \"toaster\", \"phone\", \"blender\"]}\n",
      "{\"store\": 88, \"products\": [\"tv\", \"socks\", \"broiler\", \"shirt\", \"toaster\", \"phone\", \"blender\"]}\n",
      "{\"store\": 89, \"products\": [\"tv\", \"socks\", \"broiler\", \"shirt\", \"toaster\", \"phone\", \"blender\"]}\n",
      "{\"store\": 90, \"products\": [\"tv\", \"socks\", \"broiler\", \"shirt\", \"toaster\", \"phone\", \"blender\"]}\n",
      "{\"store\": 91, \"products\": [\"tv\", \"socks\", \"broiler\", \"shirt\", \"toaster\", \"phone\", \"blender\"]}\n",
      "{\"store\": 92, \"products\": [\"socks\", \"broiler\", \"shirt\", \"toaster\", \"phone\", \"blender\", \"tv\"]}\n",
      "{\"store\": 93, \"products\": [\"socks\", \"broiler\", \"shirt\", \"toaster\", \"phone\", \"blender\", \"tv\"]}\n",
      "{\"store\": 94, \"products\": [\"socks\", \"broiler\", \"shirt\", \"toaster\", \"phone\", \"blender\", \"tv\"]}\n",
      "{\"store\": 95, \"products\": [\"socks\", \"broiler\", \"shirt\", \"toaster\", \"phone\", \"blender\", \"tv\"]}\n",
      "{\"store\": 96, \"products\": [\"socks\", \"broiler\", \"shirt\", \"toaster\", \"phone\", \"blender\", \"tv\"]}\n",
      "{\"store\": 97, \"products\": [\"broiler\", \"shirt\", \"toaster\", \"phone\", \"blender\", \"tv\", \"socks\"]}\n",
      "{\"store\": 98, \"products\": [\"broiler\", \"shirt\", \"toaster\", \"phone\", \"blender\", \"tv\", \"socks\"]}\n",
      "{\"store\": 99, \"products\": [\"broiler\", \"shirt\", \"toaster\", \"phone\", \"blender\", \"tv\", \"socks\"]}\n",
      "{\"store\": 100, \"products\": [\"broiler\", \"shirt\", \"toaster\", \"phone\", \"blender\", \"tv\", \"socks\"]}\n"
     ]
    }
   ],
   "source": [
    "%%rumble\n",
    "for $product in json-file(\"http://rumbledb.org/samples/products-small.json\", 10)\n",
    "group by $store-number := $product.store-number\n",
    "order by $store-number ascending\n",
    "return {\n",
    "    \"store\" : $store-number,\n",
    "    \"products\" : [ distinct-values($product.product) ]\n",
    "}"
   ]
  },
  {
   "cell_type": "markdown",
   "metadata": {},
   "source": [
    "Or"
   ]
  },
  {
   "cell_type": "code",
   "execution_count": 25,
   "metadata": {},
   "outputs": [
    {
     "name": "stdout",
     "output_type": "stream",
     "text": [
      "Took: 13.3197660446167 ms\n",
      "{\"store\": 1, \"products\": [{\"product\": \"shirt\", \"quantity\": 901}, {\"product\": \"toaster\", \"quantity\": 801}, {\"product\": \"phone\", \"quantity\": 701}, {\"product\": \"blender\", \"quantity\": 601}, {\"product\": \"tv\", \"quantity\": 501}, {\"product\": \"socks\", \"quantity\": 401}, {\"product\": \"broiler\", \"quantity\": 301}, {\"product\": \"shirt\", \"quantity\": 201}, {\"product\": \"toaster\", \"quantity\": 101}, {\"product\": \"phone\", \"quantity\": 1}], \"inventory\": 451000}\n",
      "{\"store\": 2, \"products\": [{\"product\": \"shirt\", \"quantity\": 602}, {\"product\": \"toaster\", \"quantity\": 502}, {\"product\": \"phone\", \"quantity\": 402}, {\"product\": \"blender\", \"quantity\": 302}, {\"product\": \"tv\", \"quantity\": 202}, {\"product\": \"socks\", \"quantity\": 102}, {\"product\": \"broiler\", \"quantity\": 2}, {\"product\": \"shirt\", \"quantity\": 902}, {\"product\": \"toaster\", \"quantity\": 802}, {\"product\": \"phone\", \"quantity\": 702}], \"inventory\": 452000}\n",
      "{\"store\": 3, \"products\": [{\"product\": \"shirt\", \"quantity\": 303}, {\"product\": \"toaster\", \"quantity\": 203}, {\"product\": \"phone\", \"quantity\": 103}, {\"product\": \"blender\", \"quantity\": 3}, {\"product\": \"tv\", \"quantity\": 903}, {\"product\": \"socks\", \"quantity\": 803}, {\"product\": \"broiler\", \"quantity\": 703}, {\"product\": \"shirt\", \"quantity\": 603}, {\"product\": \"toaster\", \"quantity\": 503}, {\"product\": \"phone\", \"quantity\": 403}], \"inventory\": 453000}\n",
      "{\"store\": 4, \"products\": [{\"product\": \"shirt\", \"quantity\": 4}, {\"product\": \"toaster\", \"quantity\": 904}, {\"product\": \"phone\", \"quantity\": 804}, {\"product\": \"blender\", \"quantity\": 704}, {\"product\": \"tv\", \"quantity\": 604}, {\"product\": \"socks\", \"quantity\": 504}, {\"product\": \"broiler\", \"quantity\": 404}, {\"product\": \"shirt\", \"quantity\": 304}, {\"product\": \"toaster\", \"quantity\": 204}, {\"product\": \"phone\", \"quantity\": 104}], \"inventory\": 454000}\n",
      "{\"store\": 5, \"products\": [{\"product\": \"shirt\", \"quantity\": 705}, {\"product\": \"toaster\", \"quantity\": 605}, {\"product\": \"phone\", \"quantity\": 505}, {\"product\": \"blender\", \"quantity\": 405}, {\"product\": \"tv\", \"quantity\": 305}, {\"product\": \"socks\", \"quantity\": 205}, {\"product\": \"broiler\", \"quantity\": 105}, {\"product\": \"shirt\", \"quantity\": 5}, {\"product\": \"toaster\", \"quantity\": 905}, {\"product\": \"phone\", \"quantity\": 805}], \"inventory\": 455000}\n",
      "{\"store\": 6, \"products\": [{\"product\": \"toaster\", \"quantity\": 306}, {\"product\": \"phone\", \"quantity\": 206}, {\"product\": \"blender\", \"quantity\": 106}, {\"product\": \"tv\", \"quantity\": 6}, {\"product\": \"socks\", \"quantity\": 906}, {\"product\": \"broiler\", \"quantity\": 806}, {\"product\": \"shirt\", \"quantity\": 706}, {\"product\": \"toaster\", \"quantity\": 606}, {\"product\": \"phone\", \"quantity\": 506}, {\"product\": \"blender\", \"quantity\": 406}], \"inventory\": 456000}\n",
      "{\"store\": 7, \"products\": [{\"product\": \"toaster\", \"quantity\": 7}, {\"product\": \"phone\", \"quantity\": 907}, {\"product\": \"blender\", \"quantity\": 807}, {\"product\": \"tv\", \"quantity\": 707}, {\"product\": \"socks\", \"quantity\": 607}, {\"product\": \"broiler\", \"quantity\": 507}, {\"product\": \"shirt\", \"quantity\": 407}, {\"product\": \"toaster\", \"quantity\": 307}, {\"product\": \"phone\", \"quantity\": 207}, {\"product\": \"blender\", \"quantity\": 107}], \"inventory\": 457000}\n",
      "{\"store\": 8, \"products\": [{\"product\": \"toaster\", \"quantity\": 708}, {\"product\": \"phone\", \"quantity\": 608}, {\"product\": \"blender\", \"quantity\": 508}, {\"product\": \"tv\", \"quantity\": 408}, {\"product\": \"socks\", \"quantity\": 308}, {\"product\": \"broiler\", \"quantity\": 208}, {\"product\": \"shirt\", \"quantity\": 108}, {\"product\": \"toaster\", \"quantity\": 8}, {\"product\": \"phone\", \"quantity\": 908}, {\"product\": \"blender\", \"quantity\": 808}], \"inventory\": 458000}\n",
      "{\"store\": 9, \"products\": [{\"product\": \"toaster\", \"quantity\": 409}, {\"product\": \"phone\", \"quantity\": 309}, {\"product\": \"blender\", \"quantity\": 209}, {\"product\": \"tv\", \"quantity\": 109}, {\"product\": \"socks\", \"quantity\": 9}, {\"product\": \"broiler\", \"quantity\": 909}, {\"product\": \"shirt\", \"quantity\": 809}, {\"product\": \"toaster\", \"quantity\": 709}, {\"product\": \"phone\", \"quantity\": 609}, {\"product\": \"blender\", \"quantity\": 509}], \"inventory\": 459000}\n",
      "{\"store\": 10, \"products\": [{\"product\": \"toaster\", \"quantity\": 110}, {\"product\": \"phone\", \"quantity\": 10}, {\"product\": \"blender\", \"quantity\": 910}, {\"product\": \"tv\", \"quantity\": 810}, {\"product\": \"socks\", \"quantity\": 710}, {\"product\": \"broiler\", \"quantity\": 610}, {\"product\": \"shirt\", \"quantity\": 510}, {\"product\": \"toaster\", \"quantity\": 410}, {\"product\": \"phone\", \"quantity\": 310}, {\"product\": \"blender\", \"quantity\": 210}], \"inventory\": 460000}\n",
      "{\"store\": 11, \"products\": [{\"product\": \"phone\", \"quantity\": 711}, {\"product\": \"blender\", \"quantity\": 611}, {\"product\": \"tv\", \"quantity\": 511}, {\"product\": \"socks\", \"quantity\": 411}, {\"product\": \"broiler\", \"quantity\": 311}, {\"product\": \"shirt\", \"quantity\": 211}, {\"product\": \"toaster\", \"quantity\": 111}, {\"product\": \"phone\", \"quantity\": 11}, {\"product\": \"blender\", \"quantity\": 911}, {\"product\": \"tv\", \"quantity\": 811}], \"inventory\": 461000}\n",
      "{\"store\": 12, \"products\": [{\"product\": \"phone\", \"quantity\": 412}, {\"product\": \"blender\", \"quantity\": 312}, {\"product\": \"tv\", \"quantity\": 212}, {\"product\": \"socks\", \"quantity\": 112}, {\"product\": \"broiler\", \"quantity\": 12}, {\"product\": \"shirt\", \"quantity\": 912}, {\"product\": \"toaster\", \"quantity\": 812}, {\"product\": \"phone\", \"quantity\": 712}, {\"product\": \"blender\", \"quantity\": 612}, {\"product\": \"tv\", \"quantity\": 512}], \"inventory\": 462000}\n",
      "{\"store\": 13, \"products\": [{\"product\": \"phone\", \"quantity\": 113}, {\"product\": \"blender\", \"quantity\": 13}, {\"product\": \"tv\", \"quantity\": 913}, {\"product\": \"socks\", \"quantity\": 813}, {\"product\": \"broiler\", \"quantity\": 713}, {\"product\": \"shirt\", \"quantity\": 613}, {\"product\": \"toaster\", \"quantity\": 513}, {\"product\": \"phone\", \"quantity\": 413}, {\"product\": \"blender\", \"quantity\": 313}, {\"product\": \"tv\", \"quantity\": 213}], \"inventory\": 463000}\n",
      "{\"store\": 14, \"products\": [{\"product\": \"phone\", \"quantity\": 814}, {\"product\": \"blender\", \"quantity\": 714}, {\"product\": \"tv\", \"quantity\": 614}, {\"product\": \"socks\", \"quantity\": 514}, {\"product\": \"broiler\", \"quantity\": 414}, {\"product\": \"shirt\", \"quantity\": 314}, {\"product\": \"toaster\", \"quantity\": 214}, {\"product\": \"phone\", \"quantity\": 114}, {\"product\": \"blender\", \"quantity\": 14}, {\"product\": \"tv\", \"quantity\": 914}], \"inventory\": 464000}\n",
      "{\"store\": 15, \"products\": [{\"product\": \"phone\", \"quantity\": 515}, {\"product\": \"blender\", \"quantity\": 415}, {\"product\": \"tv\", \"quantity\": 315}, {\"product\": \"socks\", \"quantity\": 215}, {\"product\": \"broiler\", \"quantity\": 115}, {\"product\": \"shirt\", \"quantity\": 15}, {\"product\": \"toaster\", \"quantity\": 915}, {\"product\": \"phone\", \"quantity\": 815}, {\"product\": \"blender\", \"quantity\": 715}, {\"product\": \"tv\", \"quantity\": 615}], \"inventory\": 465000}\n",
      "{\"store\": 16, \"products\": [{\"product\": \"blender\", \"quantity\": 116}, {\"product\": \"tv\", \"quantity\": 16}, {\"product\": \"socks\", \"quantity\": 916}, {\"product\": \"broiler\", \"quantity\": 816}, {\"product\": \"shirt\", \"quantity\": 716}, {\"product\": \"toaster\", \"quantity\": 616}, {\"product\": \"phone\", \"quantity\": 516}, {\"product\": \"blender\", \"quantity\": 416}, {\"product\": \"tv\", \"quantity\": 316}, {\"product\": \"socks\", \"quantity\": 216}], \"inventory\": 466000}\n",
      "{\"store\": 17, \"products\": [{\"product\": \"blender\", \"quantity\": 817}, {\"product\": \"tv\", \"quantity\": 717}, {\"product\": \"socks\", \"quantity\": 617}, {\"product\": \"broiler\", \"quantity\": 517}, {\"product\": \"shirt\", \"quantity\": 417}, {\"product\": \"toaster\", \"quantity\": 317}, {\"product\": \"phone\", \"quantity\": 217}, {\"product\": \"blender\", \"quantity\": 117}, {\"product\": \"tv\", \"quantity\": 17}, {\"product\": \"socks\", \"quantity\": 917}], \"inventory\": 467000}\n",
      "{\"store\": 18, \"products\": [{\"product\": \"blender\", \"quantity\": 518}, {\"product\": \"tv\", \"quantity\": 418}, {\"product\": \"socks\", \"quantity\": 318}, {\"product\": \"broiler\", \"quantity\": 218}, {\"product\": \"shirt\", \"quantity\": 118}, {\"product\": \"toaster\", \"quantity\": 18}, {\"product\": \"phone\", \"quantity\": 918}, {\"product\": \"blender\", \"quantity\": 818}, {\"product\": \"tv\", \"quantity\": 718}, {\"product\": \"socks\", \"quantity\": 618}], \"inventory\": 468000}\n",
      "{\"store\": 19, \"products\": [{\"product\": \"blender\", \"quantity\": 219}, {\"product\": \"tv\", \"quantity\": 119}, {\"product\": \"socks\", \"quantity\": 19}, {\"product\": \"broiler\", \"quantity\": 919}, {\"product\": \"shirt\", \"quantity\": 819}, {\"product\": \"toaster\", \"quantity\": 719}, {\"product\": \"phone\", \"quantity\": 619}, {\"product\": \"blender\", \"quantity\": 519}, {\"product\": \"tv\", \"quantity\": 419}, {\"product\": \"socks\", \"quantity\": 319}], \"inventory\": 469000}\n",
      "{\"store\": 20, \"products\": [{\"product\": \"blender\", \"quantity\": 920}, {\"product\": \"tv\", \"quantity\": 820}, {\"product\": \"socks\", \"quantity\": 720}, {\"product\": \"broiler\", \"quantity\": 620}, {\"product\": \"shirt\", \"quantity\": 520}, {\"product\": \"toaster\", \"quantity\": 420}, {\"product\": \"phone\", \"quantity\": 320}, {\"product\": \"blender\", \"quantity\": 220}, {\"product\": \"tv\", \"quantity\": 120}, {\"product\": \"socks\", \"quantity\": 20}], \"inventory\": 470000}\n",
      "{\"store\": 21, \"products\": [{\"product\": \"tv\", \"quantity\": 521}, {\"product\": \"socks\", \"quantity\": 421}, {\"product\": \"broiler\", \"quantity\": 321}, {\"product\": \"shirt\", \"quantity\": 221}, {\"product\": \"toaster\", \"quantity\": 121}, {\"product\": \"phone\", \"quantity\": 21}, {\"product\": \"blender\", \"quantity\": 921}, {\"product\": \"tv\", \"quantity\": 821}, {\"product\": \"socks\", \"quantity\": 721}, {\"product\": \"broiler\", \"quantity\": 621}], \"inventory\": 471000}\n",
      "{\"store\": 22, \"products\": [{\"product\": \"tv\", \"quantity\": 222}, {\"product\": \"socks\", \"quantity\": 122}, {\"product\": \"broiler\", \"quantity\": 22}, {\"product\": \"shirt\", \"quantity\": 922}, {\"product\": \"toaster\", \"quantity\": 822}, {\"product\": \"phone\", \"quantity\": 722}, {\"product\": \"blender\", \"quantity\": 622}, {\"product\": \"tv\", \"quantity\": 522}, {\"product\": \"socks\", \"quantity\": 422}, {\"product\": \"broiler\", \"quantity\": 322}], \"inventory\": 472000}\n",
      "{\"store\": 23, \"products\": [{\"product\": \"tv\", \"quantity\": 923}, {\"product\": \"socks\", \"quantity\": 823}, {\"product\": \"broiler\", \"quantity\": 723}, {\"product\": \"shirt\", \"quantity\": 623}, {\"product\": \"toaster\", \"quantity\": 523}, {\"product\": \"phone\", \"quantity\": 423}, {\"product\": \"blender\", \"quantity\": 323}, {\"product\": \"tv\", \"quantity\": 223}, {\"product\": \"socks\", \"quantity\": 123}, {\"product\": \"broiler\", \"quantity\": 23}], \"inventory\": 473000}\n",
      "{\"store\": 24, \"products\": [{\"product\": \"tv\", \"quantity\": 624}, {\"product\": \"socks\", \"quantity\": 524}, {\"product\": \"broiler\", \"quantity\": 424}, {\"product\": \"shirt\", \"quantity\": 324}, {\"product\": \"toaster\", \"quantity\": 224}, {\"product\": \"phone\", \"quantity\": 124}, {\"product\": \"blender\", \"quantity\": 24}, {\"product\": \"tv\", \"quantity\": 924}, {\"product\": \"socks\", \"quantity\": 824}, {\"product\": \"broiler\", \"quantity\": 724}], \"inventory\": 474000}\n",
      "{\"store\": 25, \"products\": [{\"product\": \"socks\", \"quantity\": 225}, {\"product\": \"broiler\", \"quantity\": 125}, {\"product\": \"shirt\", \"quantity\": 25}, {\"product\": \"toaster\", \"quantity\": 925}, {\"product\": \"phone\", \"quantity\": 825}, {\"product\": \"blender\", \"quantity\": 725}, {\"product\": \"tv\", \"quantity\": 625}, {\"product\": \"socks\", \"quantity\": 525}, {\"product\": \"broiler\", \"quantity\": 425}, {\"product\": \"shirt\", \"quantity\": 325}], \"inventory\": 475000}\n",
      "{\"store\": 26, \"products\": [{\"product\": \"socks\", \"quantity\": 926}, {\"product\": \"broiler\", \"quantity\": 826}, {\"product\": \"shirt\", \"quantity\": 726}, {\"product\": \"toaster\", \"quantity\": 626}, {\"product\": \"phone\", \"quantity\": 526}, {\"product\": \"blender\", \"quantity\": 426}, {\"product\": \"tv\", \"quantity\": 326}, {\"product\": \"socks\", \"quantity\": 226}, {\"product\": \"broiler\", \"quantity\": 126}, {\"product\": \"shirt\", \"quantity\": 26}], \"inventory\": 476000}\n",
      "{\"store\": 27, \"products\": [{\"product\": \"socks\", \"quantity\": 627}, {\"product\": \"broiler\", \"quantity\": 527}, {\"product\": \"shirt\", \"quantity\": 427}, {\"product\": \"toaster\", \"quantity\": 327}, {\"product\": \"phone\", \"quantity\": 227}, {\"product\": \"blender\", \"quantity\": 127}, {\"product\": \"tv\", \"quantity\": 27}, {\"product\": \"socks\", \"quantity\": 927}, {\"product\": \"broiler\", \"quantity\": 827}, {\"product\": \"shirt\", \"quantity\": 727}], \"inventory\": 477000}\n",
      "{\"store\": 28, \"products\": [{\"product\": \"socks\", \"quantity\": 328}, {\"product\": \"broiler\", \"quantity\": 228}, {\"product\": \"shirt\", \"quantity\": 128}, {\"product\": \"toaster\", \"quantity\": 28}, {\"product\": \"phone\", \"quantity\": 928}, {\"product\": \"blender\", \"quantity\": 828}, {\"product\": \"tv\", \"quantity\": 728}, {\"product\": \"socks\", \"quantity\": 628}, {\"product\": \"broiler\", \"quantity\": 528}, {\"product\": \"shirt\", \"quantity\": 428}], \"inventory\": 478000}\n",
      "{\"store\": 29, \"products\": [{\"product\": \"socks\", \"quantity\": 29}, {\"product\": \"broiler\", \"quantity\": 929}, {\"product\": \"shirt\", \"quantity\": 829}, {\"product\": \"toaster\", \"quantity\": 729}, {\"product\": \"phone\", \"quantity\": 629}, {\"product\": \"blender\", \"quantity\": 529}, {\"product\": \"tv\", \"quantity\": 429}, {\"product\": \"socks\", \"quantity\": 329}, {\"product\": \"broiler\", \"quantity\": 229}, {\"product\": \"shirt\", \"quantity\": 129}], \"inventory\": 479000}\n",
      "{\"store\": 30, \"products\": [{\"product\": \"broiler\", \"quantity\": 630}, {\"product\": \"shirt\", \"quantity\": 530}, {\"product\": \"toaster\", \"quantity\": 430}, {\"product\": \"phone\", \"quantity\": 330}, {\"product\": \"blender\", \"quantity\": 230}, {\"product\": \"tv\", \"quantity\": 130}, {\"product\": \"socks\", \"quantity\": 30}, {\"product\": \"broiler\", \"quantity\": 930}, {\"product\": \"shirt\", \"quantity\": 830}, {\"product\": \"toaster\", \"quantity\": 730}], \"inventory\": 480000}\n",
      "{\"store\": 31, \"products\": [{\"product\": \"broiler\", \"quantity\": 331}, {\"product\": \"shirt\", \"quantity\": 231}, {\"product\": \"toaster\", \"quantity\": 131}, {\"product\": \"phone\", \"quantity\": 31}, {\"product\": \"blender\", \"quantity\": 931}, {\"product\": \"tv\", \"quantity\": 831}, {\"product\": \"socks\", \"quantity\": 731}, {\"product\": \"broiler\", \"quantity\": 631}, {\"product\": \"shirt\", \"quantity\": 531}, {\"product\": \"toaster\", \"quantity\": 431}], \"inventory\": 481000}\n",
      "{\"store\": 32, \"products\": [{\"product\": \"broiler\", \"quantity\": 32}, {\"product\": \"shirt\", \"quantity\": 932}, {\"product\": \"toaster\", \"quantity\": 832}, {\"product\": \"phone\", \"quantity\": 732}, {\"product\": \"blender\", \"quantity\": 632}, {\"product\": \"tv\", \"quantity\": 532}, {\"product\": \"socks\", \"quantity\": 432}, {\"product\": \"broiler\", \"quantity\": 332}, {\"product\": \"shirt\", \"quantity\": 232}, {\"product\": \"toaster\", \"quantity\": 132}], \"inventory\": 482000}\n",
      "{\"store\": 33, \"products\": [{\"product\": \"broiler\", \"quantity\": 733}, {\"product\": \"shirt\", \"quantity\": 633}, {\"product\": \"toaster\", \"quantity\": 533}, {\"product\": \"phone\", \"quantity\": 433}, {\"product\": \"blender\", \"quantity\": 333}, {\"product\": \"tv\", \"quantity\": 233}, {\"product\": \"socks\", \"quantity\": 133}, {\"product\": \"broiler\", \"quantity\": 33}, {\"product\": \"shirt\", \"quantity\": 933}, {\"product\": \"toaster\", \"quantity\": 833}], \"inventory\": 483000}\n",
      "{\"store\": 34, \"products\": [{\"product\": \"broiler\", \"quantity\": 434}, {\"product\": \"shirt\", \"quantity\": 334}, {\"product\": \"toaster\", \"quantity\": 234}, {\"product\": \"phone\", \"quantity\": 134}, {\"product\": \"blender\", \"quantity\": 34}, {\"product\": \"tv\", \"quantity\": 934}, {\"product\": \"socks\", \"quantity\": 834}, {\"product\": \"broiler\", \"quantity\": 734}, {\"product\": \"shirt\", \"quantity\": 634}, {\"product\": \"toaster\", \"quantity\": 534}], \"inventory\": 484000}\n",
      "{\"store\": 35, \"products\": [{\"product\": \"shirt\", \"quantity\": 35}, {\"product\": \"toaster\", \"quantity\": 935}, {\"product\": \"phone\", \"quantity\": 835}, {\"product\": \"blender\", \"quantity\": 735}, {\"product\": \"tv\", \"quantity\": 635}, {\"product\": \"socks\", \"quantity\": 535}, {\"product\": \"broiler\", \"quantity\": 435}, {\"product\": \"shirt\", \"quantity\": 335}, {\"product\": \"toaster\", \"quantity\": 235}, {\"product\": \"phone\", \"quantity\": 135}], \"inventory\": 485000}\n",
      "{\"store\": 36, \"products\": [{\"product\": \"shirt\", \"quantity\": 736}, {\"product\": \"toaster\", \"quantity\": 636}, {\"product\": \"phone\", \"quantity\": 536}, {\"product\": \"blender\", \"quantity\": 436}, {\"product\": \"tv\", \"quantity\": 336}, {\"product\": \"socks\", \"quantity\": 236}, {\"product\": \"broiler\", \"quantity\": 136}, {\"product\": \"shirt\", \"quantity\": 36}, {\"product\": \"toaster\", \"quantity\": 936}, {\"product\": \"phone\", \"quantity\": 836}], \"inventory\": 486000}\n",
      "{\"store\": 37, \"products\": [{\"product\": \"shirt\", \"quantity\": 437}, {\"product\": \"toaster\", \"quantity\": 337}, {\"product\": \"phone\", \"quantity\": 237}, {\"product\": \"blender\", \"quantity\": 137}, {\"product\": \"tv\", \"quantity\": 37}, {\"product\": \"socks\", \"quantity\": 937}, {\"product\": \"broiler\", \"quantity\": 837}, {\"product\": \"shirt\", \"quantity\": 737}, {\"product\": \"toaster\", \"quantity\": 637}, {\"product\": \"phone\", \"quantity\": 537}], \"inventory\": 487000}\n",
      "{\"store\": 38, \"products\": [{\"product\": \"shirt\", \"quantity\": 138}, {\"product\": \"toaster\", \"quantity\": 38}, {\"product\": \"phone\", \"quantity\": 938}, {\"product\": \"blender\", \"quantity\": 838}, {\"product\": \"tv\", \"quantity\": 738}, {\"product\": \"socks\", \"quantity\": 638}, {\"product\": \"broiler\", \"quantity\": 538}, {\"product\": \"shirt\", \"quantity\": 438}, {\"product\": \"toaster\", \"quantity\": 338}, {\"product\": \"phone\", \"quantity\": 238}], \"inventory\": 488000}\n",
      "{\"store\": 39, \"products\": [{\"product\": \"shirt\", \"quantity\": 839}, {\"product\": \"toaster\", \"quantity\": 739}, {\"product\": \"phone\", \"quantity\": 639}, {\"product\": \"blender\", \"quantity\": 539}, {\"product\": \"tv\", \"quantity\": 439}, {\"product\": \"socks\", \"quantity\": 339}, {\"product\": \"broiler\", \"quantity\": 239}, {\"product\": \"shirt\", \"quantity\": 139}, {\"product\": \"toaster\", \"quantity\": 39}, {\"product\": \"phone\", \"quantity\": 939}], \"inventory\": 489000}\n",
      "{\"store\": 40, \"products\": [{\"product\": \"toaster\", \"quantity\": 440}, {\"product\": \"phone\", \"quantity\": 340}, {\"product\": \"blender\", \"quantity\": 240}, {\"product\": \"tv\", \"quantity\": 140}, {\"product\": \"socks\", \"quantity\": 40}, {\"product\": \"broiler\", \"quantity\": 940}, {\"product\": \"shirt\", \"quantity\": 840}, {\"product\": \"toaster\", \"quantity\": 740}, {\"product\": \"phone\", \"quantity\": 640}, {\"product\": \"blender\", \"quantity\": 540}], \"inventory\": 490000}\n",
      "{\"store\": 41, \"products\": [{\"product\": \"toaster\", \"quantity\": 141}, {\"product\": \"phone\", \"quantity\": 41}, {\"product\": \"blender\", \"quantity\": 941}, {\"product\": \"tv\", \"quantity\": 841}, {\"product\": \"socks\", \"quantity\": 741}, {\"product\": \"broiler\", \"quantity\": 641}, {\"product\": \"shirt\", \"quantity\": 541}, {\"product\": \"toaster\", \"quantity\": 441}, {\"product\": \"phone\", \"quantity\": 341}, {\"product\": \"blender\", \"quantity\": 241}], \"inventory\": 491000}\n",
      "{\"store\": 42, \"products\": [{\"product\": \"toaster\", \"quantity\": 842}, {\"product\": \"phone\", \"quantity\": 742}, {\"product\": \"blender\", \"quantity\": 642}, {\"product\": \"tv\", \"quantity\": 542}, {\"product\": \"socks\", \"quantity\": 442}, {\"product\": \"broiler\", \"quantity\": 342}, {\"product\": \"shirt\", \"quantity\": 242}, {\"product\": \"toaster\", \"quantity\": 142}, {\"product\": \"phone\", \"quantity\": 42}, {\"product\": \"blender\", \"quantity\": 942}], \"inventory\": 492000}\n",
      "{\"store\": 43, \"products\": [{\"product\": \"toaster\", \"quantity\": 543}, {\"product\": \"phone\", \"quantity\": 443}, {\"product\": \"blender\", \"quantity\": 343}, {\"product\": \"tv\", \"quantity\": 243}, {\"product\": \"socks\", \"quantity\": 143}, {\"product\": \"broiler\", \"quantity\": 43}, {\"product\": \"shirt\", \"quantity\": 943}, {\"product\": \"toaster\", \"quantity\": 843}, {\"product\": \"phone\", \"quantity\": 743}, {\"product\": \"blender\", \"quantity\": 643}], \"inventory\": 493000}\n",
      "{\"store\": 44, \"products\": [{\"product\": \"phone\", \"quantity\": 144}, {\"product\": \"blender\", \"quantity\": 44}, {\"product\": \"tv\", \"quantity\": 944}, {\"product\": \"socks\", \"quantity\": 844}, {\"product\": \"broiler\", \"quantity\": 744}, {\"product\": \"shirt\", \"quantity\": 644}, {\"product\": \"toaster\", \"quantity\": 544}, {\"product\": \"phone\", \"quantity\": 444}, {\"product\": \"blender\", \"quantity\": 344}, {\"product\": \"tv\", \"quantity\": 244}], \"inventory\": 494000}\n",
      "{\"store\": 45, \"products\": [{\"product\": \"phone\", \"quantity\": 845}, {\"product\": \"blender\", \"quantity\": 745}, {\"product\": \"tv\", \"quantity\": 645}, {\"product\": \"socks\", \"quantity\": 545}, {\"product\": \"broiler\", \"quantity\": 445}, {\"product\": \"shirt\", \"quantity\": 345}, {\"product\": \"toaster\", \"quantity\": 245}, {\"product\": \"phone\", \"quantity\": 145}, {\"product\": \"blender\", \"quantity\": 45}, {\"product\": \"tv\", \"quantity\": 945}], \"inventory\": 495000}\n",
      "{\"store\": 46, \"products\": [{\"product\": \"phone\", \"quantity\": 546}, {\"product\": \"blender\", \"quantity\": 446}, {\"product\": \"tv\", \"quantity\": 346}, {\"product\": \"socks\", \"quantity\": 246}, {\"product\": \"broiler\", \"quantity\": 146}, {\"product\": \"shirt\", \"quantity\": 46}, {\"product\": \"toaster\", \"quantity\": 946}, {\"product\": \"phone\", \"quantity\": 846}, {\"product\": \"blender\", \"quantity\": 746}, {\"product\": \"tv\", \"quantity\": 646}], \"inventory\": 496000}\n",
      "{\"store\": 47, \"products\": [{\"product\": \"phone\", \"quantity\": 247}, {\"product\": \"blender\", \"quantity\": 147}, {\"product\": \"tv\", \"quantity\": 47}, {\"product\": \"socks\", \"quantity\": 947}, {\"product\": \"broiler\", \"quantity\": 847}, {\"product\": \"shirt\", \"quantity\": 747}, {\"product\": \"toaster\", \"quantity\": 647}, {\"product\": \"phone\", \"quantity\": 547}, {\"product\": \"blender\", \"quantity\": 447}, {\"product\": \"tv\", \"quantity\": 347}], \"inventory\": 497000}\n",
      "{\"store\": 48, \"products\": [{\"product\": \"phone\", \"quantity\": 948}, {\"product\": \"blender\", \"quantity\": 848}, {\"product\": \"tv\", \"quantity\": 748}, {\"product\": \"socks\", \"quantity\": 648}, {\"product\": \"broiler\", \"quantity\": 548}, {\"product\": \"shirt\", \"quantity\": 448}, {\"product\": \"toaster\", \"quantity\": 348}, {\"product\": \"phone\", \"quantity\": 248}, {\"product\": \"blender\", \"quantity\": 148}, {\"product\": \"tv\", \"quantity\": 48}], \"inventory\": 498000}\n",
      "{\"store\": 49, \"products\": [{\"product\": \"blender\", \"quantity\": 549}, {\"product\": \"tv\", \"quantity\": 449}, {\"product\": \"socks\", \"quantity\": 349}, {\"product\": \"broiler\", \"quantity\": 249}, {\"product\": \"shirt\", \"quantity\": 149}, {\"product\": \"toaster\", \"quantity\": 49}, {\"product\": \"phone\", \"quantity\": 949}, {\"product\": \"blender\", \"quantity\": 849}, {\"product\": \"tv\", \"quantity\": 749}, {\"product\": \"socks\", \"quantity\": 649}], \"inventory\": 499000}\n",
      "{\"store\": 50, \"products\": [{\"product\": \"blender\", \"quantity\": 250}, {\"product\": \"tv\", \"quantity\": 150}, {\"product\": \"socks\", \"quantity\": 50}, {\"product\": \"broiler\", \"quantity\": 950}, {\"product\": \"shirt\", \"quantity\": 850}, {\"product\": \"toaster\", \"quantity\": 750}, {\"product\": \"phone\", \"quantity\": 650}, {\"product\": \"blender\", \"quantity\": 550}, {\"product\": \"tv\", \"quantity\": 450}, {\"product\": \"socks\", \"quantity\": 350}], \"inventory\": 500000}\n",
      "{\"store\": 51, \"products\": [{\"product\": \"blender\", \"quantity\": 951}, {\"product\": \"tv\", \"quantity\": 851}, {\"product\": \"socks\", \"quantity\": 751}, {\"product\": \"broiler\", \"quantity\": 651}, {\"product\": \"shirt\", \"quantity\": 551}, {\"product\": \"toaster\", \"quantity\": 451}, {\"product\": \"phone\", \"quantity\": 351}, {\"product\": \"blender\", \"quantity\": 251}, {\"product\": \"tv\", \"quantity\": 151}, {\"product\": \"socks\", \"quantity\": 51}], \"inventory\": 501000}\n",
      "{\"store\": 52, \"products\": [{\"product\": \"blender\", \"quantity\": 652}, {\"product\": \"tv\", \"quantity\": 552}, {\"product\": \"socks\", \"quantity\": 452}, {\"product\": \"broiler\", \"quantity\": 352}, {\"product\": \"shirt\", \"quantity\": 252}, {\"product\": \"toaster\", \"quantity\": 152}, {\"product\": \"phone\", \"quantity\": 52}, {\"product\": \"blender\", \"quantity\": 952}, {\"product\": \"tv\", \"quantity\": 852}, {\"product\": \"socks\", \"quantity\": 752}], \"inventory\": 502000}\n",
      "{\"store\": 53, \"products\": [{\"product\": \"blender\", \"quantity\": 353}, {\"product\": \"tv\", \"quantity\": 253}, {\"product\": \"socks\", \"quantity\": 153}, {\"product\": \"broiler\", \"quantity\": 53}, {\"product\": \"shirt\", \"quantity\": 953}, {\"product\": \"toaster\", \"quantity\": 853}, {\"product\": \"phone\", \"quantity\": 753}, {\"product\": \"blender\", \"quantity\": 653}, {\"product\": \"tv\", \"quantity\": 553}, {\"product\": \"socks\", \"quantity\": 453}], \"inventory\": 503000}\n",
      "{\"store\": 54, \"products\": [{\"product\": \"tv\", \"quantity\": 954}, {\"product\": \"socks\", \"quantity\": 854}, {\"product\": \"broiler\", \"quantity\": 754}, {\"product\": \"shirt\", \"quantity\": 654}, {\"product\": \"toaster\", \"quantity\": 554}, {\"product\": \"phone\", \"quantity\": 454}, {\"product\": \"blender\", \"quantity\": 354}, {\"product\": \"tv\", \"quantity\": 254}, {\"product\": \"socks\", \"quantity\": 154}, {\"product\": \"broiler\", \"quantity\": 54}], \"inventory\": 504000}\n",
      "{\"store\": 55, \"products\": [{\"product\": \"tv\", \"quantity\": 655}, {\"product\": \"socks\", \"quantity\": 555}, {\"product\": \"broiler\", \"quantity\": 455}, {\"product\": \"shirt\", \"quantity\": 355}, {\"product\": \"toaster\", \"quantity\": 255}, {\"product\": \"phone\", \"quantity\": 155}, {\"product\": \"blender\", \"quantity\": 55}, {\"product\": \"tv\", \"quantity\": 955}, {\"product\": \"socks\", \"quantity\": 855}, {\"product\": \"broiler\", \"quantity\": 755}], \"inventory\": 505000}\n",
      "{\"store\": 56, \"products\": [{\"product\": \"tv\", \"quantity\": 356}, {\"product\": \"socks\", \"quantity\": 256}, {\"product\": \"broiler\", \"quantity\": 156}, {\"product\": \"shirt\", \"quantity\": 56}, {\"product\": \"toaster\", \"quantity\": 956}, {\"product\": \"phone\", \"quantity\": 856}, {\"product\": \"blender\", \"quantity\": 756}, {\"product\": \"tv\", \"quantity\": 656}, {\"product\": \"socks\", \"quantity\": 556}, {\"product\": \"broiler\", \"quantity\": 456}], \"inventory\": 506000}\n",
      "{\"store\": 57, \"products\": [{\"product\": \"tv\", \"quantity\": 57}, {\"product\": \"socks\", \"quantity\": 957}, {\"product\": \"broiler\", \"quantity\": 857}, {\"product\": \"shirt\", \"quantity\": 757}, {\"product\": \"toaster\", \"quantity\": 657}, {\"product\": \"phone\", \"quantity\": 557}, {\"product\": \"blender\", \"quantity\": 457}, {\"product\": \"tv\", \"quantity\": 357}, {\"product\": \"socks\", \"quantity\": 257}, {\"product\": \"broiler\", \"quantity\": 157}], \"inventory\": 507000}\n",
      "{\"store\": 58, \"products\": [{\"product\": \"tv\", \"quantity\": 758}, {\"product\": \"socks\", \"quantity\": 658}, {\"product\": \"broiler\", \"quantity\": 558}, {\"product\": \"shirt\", \"quantity\": 458}, {\"product\": \"toaster\", \"quantity\": 358}, {\"product\": \"phone\", \"quantity\": 258}, {\"product\": \"blender\", \"quantity\": 158}, {\"product\": \"tv\", \"quantity\": 58}, {\"product\": \"socks\", \"quantity\": 958}, {\"product\": \"broiler\", \"quantity\": 858}], \"inventory\": 508000}\n",
      "{\"store\": 59, \"products\": [{\"product\": \"socks\", \"quantity\": 359}, {\"product\": \"broiler\", \"quantity\": 259}, {\"product\": \"shirt\", \"quantity\": 159}, {\"product\": \"toaster\", \"quantity\": 59}, {\"product\": \"phone\", \"quantity\": 959}, {\"product\": \"blender\", \"quantity\": 859}, {\"product\": \"tv\", \"quantity\": 759}, {\"product\": \"socks\", \"quantity\": 659}, {\"product\": \"broiler\", \"quantity\": 559}, {\"product\": \"shirt\", \"quantity\": 459}], \"inventory\": 509000}\n",
      "{\"store\": 60, \"products\": [{\"product\": \"socks\", \"quantity\": 60}, {\"product\": \"broiler\", \"quantity\": 960}, {\"product\": \"shirt\", \"quantity\": 860}, {\"product\": \"toaster\", \"quantity\": 760}, {\"product\": \"phone\", \"quantity\": 660}, {\"product\": \"blender\", \"quantity\": 560}, {\"product\": \"tv\", \"quantity\": 460}, {\"product\": \"socks\", \"quantity\": 360}, {\"product\": \"broiler\", \"quantity\": 260}, {\"product\": \"shirt\", \"quantity\": 160}], \"inventory\": 510000}\n",
      "{\"store\": 61, \"products\": [{\"product\": \"socks\", \"quantity\": 761}, {\"product\": \"broiler\", \"quantity\": 661}, {\"product\": \"shirt\", \"quantity\": 561}, {\"product\": \"toaster\", \"quantity\": 461}, {\"product\": \"phone\", \"quantity\": 361}, {\"product\": \"blender\", \"quantity\": 261}, {\"product\": \"tv\", \"quantity\": 161}, {\"product\": \"socks\", \"quantity\": 61}, {\"product\": \"broiler\", \"quantity\": 961}, {\"product\": \"shirt\", \"quantity\": 861}], \"inventory\": 511000}\n",
      "{\"store\": 62, \"products\": [{\"product\": \"socks\", \"quantity\": 462}, {\"product\": \"broiler\", \"quantity\": 362}, {\"product\": \"shirt\", \"quantity\": 262}, {\"product\": \"toaster\", \"quantity\": 162}, {\"product\": \"phone\", \"quantity\": 62}, {\"product\": \"blender\", \"quantity\": 962}, {\"product\": \"tv\", \"quantity\": 862}, {\"product\": \"socks\", \"quantity\": 762}, {\"product\": \"broiler\", \"quantity\": 662}, {\"product\": \"shirt\", \"quantity\": 562}], \"inventory\": 512000}\n",
      "{\"store\": 63, \"products\": [{\"product\": \"broiler\", \"quantity\": 63}, {\"product\": \"shirt\", \"quantity\": 963}, {\"product\": \"toaster\", \"quantity\": 863}, {\"product\": \"phone\", \"quantity\": 763}, {\"product\": \"blender\", \"quantity\": 663}, {\"product\": \"tv\", \"quantity\": 563}, {\"product\": \"socks\", \"quantity\": 463}, {\"product\": \"broiler\", \"quantity\": 363}, {\"product\": \"shirt\", \"quantity\": 263}, {\"product\": \"toaster\", \"quantity\": 163}], \"inventory\": 513000}\n",
      "{\"store\": 64, \"products\": [{\"product\": \"broiler\", \"quantity\": 764}, {\"product\": \"shirt\", \"quantity\": 664}, {\"product\": \"toaster\", \"quantity\": 564}, {\"product\": \"phone\", \"quantity\": 464}, {\"product\": \"blender\", \"quantity\": 364}, {\"product\": \"tv\", \"quantity\": 264}, {\"product\": \"socks\", \"quantity\": 164}, {\"product\": \"broiler\", \"quantity\": 64}, {\"product\": \"shirt\", \"quantity\": 964}, {\"product\": \"toaster\", \"quantity\": 864}], \"inventory\": 514000}\n",
      "{\"store\": 65, \"products\": [{\"product\": \"broiler\", \"quantity\": 465}, {\"product\": \"shirt\", \"quantity\": 365}, {\"product\": \"toaster\", \"quantity\": 265}, {\"product\": \"phone\", \"quantity\": 165}, {\"product\": \"blender\", \"quantity\": 65}, {\"product\": \"tv\", \"quantity\": 965}, {\"product\": \"socks\", \"quantity\": 865}, {\"product\": \"broiler\", \"quantity\": 765}, {\"product\": \"shirt\", \"quantity\": 665}, {\"product\": \"toaster\", \"quantity\": 565}], \"inventory\": 515000}\n",
      "{\"store\": 66, \"products\": [{\"product\": \"broiler\", \"quantity\": 166}, {\"product\": \"shirt\", \"quantity\": 66}, {\"product\": \"toaster\", \"quantity\": 966}, {\"product\": \"phone\", \"quantity\": 866}, {\"product\": \"blender\", \"quantity\": 766}, {\"product\": \"tv\", \"quantity\": 666}, {\"product\": \"socks\", \"quantity\": 566}, {\"product\": \"broiler\", \"quantity\": 466}, {\"product\": \"shirt\", \"quantity\": 366}, {\"product\": \"toaster\", \"quantity\": 266}], \"inventory\": 516000}\n",
      "{\"store\": 67, \"products\": [{\"product\": \"broiler\", \"quantity\": 867}, {\"product\": \"shirt\", \"quantity\": 767}, {\"product\": \"toaster\", \"quantity\": 667}, {\"product\": \"phone\", \"quantity\": 567}, {\"product\": \"blender\", \"quantity\": 467}, {\"product\": \"tv\", \"quantity\": 367}, {\"product\": \"socks\", \"quantity\": 267}, {\"product\": \"broiler\", \"quantity\": 167}, {\"product\": \"shirt\", \"quantity\": 67}, {\"product\": \"toaster\", \"quantity\": 967}], \"inventory\": 517000}\n",
      "{\"store\": 68, \"products\": [{\"product\": \"shirt\", \"quantity\": 468}, {\"product\": \"toaster\", \"quantity\": 368}, {\"product\": \"phone\", \"quantity\": 268}, {\"product\": \"blender\", \"quantity\": 168}, {\"product\": \"tv\", \"quantity\": 68}, {\"product\": \"socks\", \"quantity\": 968}, {\"product\": \"broiler\", \"quantity\": 868}, {\"product\": \"shirt\", \"quantity\": 768}, {\"product\": \"toaster\", \"quantity\": 668}, {\"product\": \"phone\", \"quantity\": 568}], \"inventory\": 518000}\n",
      "{\"store\": 69, \"products\": [{\"product\": \"shirt\", \"quantity\": 169}, {\"product\": \"toaster\", \"quantity\": 69}, {\"product\": \"phone\", \"quantity\": 969}, {\"product\": \"blender\", \"quantity\": 869}, {\"product\": \"tv\", \"quantity\": 769}, {\"product\": \"socks\", \"quantity\": 669}, {\"product\": \"broiler\", \"quantity\": 569}, {\"product\": \"shirt\", \"quantity\": 469}, {\"product\": \"toaster\", \"quantity\": 369}, {\"product\": \"phone\", \"quantity\": 269}], \"inventory\": 519000}\n",
      "{\"store\": 70, \"products\": [{\"product\": \"shirt\", \"quantity\": 870}, {\"product\": \"toaster\", \"quantity\": 770}, {\"product\": \"phone\", \"quantity\": 670}, {\"product\": \"blender\", \"quantity\": 570}, {\"product\": \"tv\", \"quantity\": 470}, {\"product\": \"socks\", \"quantity\": 370}, {\"product\": \"broiler\", \"quantity\": 270}, {\"product\": \"shirt\", \"quantity\": 170}, {\"product\": \"toaster\", \"quantity\": 70}, {\"product\": \"phone\", \"quantity\": 970}], \"inventory\": 520000}\n",
      "{\"store\": 71, \"products\": [{\"product\": \"shirt\", \"quantity\": 571}, {\"product\": \"toaster\", \"quantity\": 471}, {\"product\": \"phone\", \"quantity\": 371}, {\"product\": \"blender\", \"quantity\": 271}, {\"product\": \"tv\", \"quantity\": 171}, {\"product\": \"socks\", \"quantity\": 71}, {\"product\": \"broiler\", \"quantity\": 971}, {\"product\": \"shirt\", \"quantity\": 871}, {\"product\": \"toaster\", \"quantity\": 771}, {\"product\": \"phone\", \"quantity\": 671}], \"inventory\": 521000}\n",
      "{\"store\": 72, \"products\": [{\"product\": \"shirt\", \"quantity\": 272}, {\"product\": \"toaster\", \"quantity\": 172}, {\"product\": \"phone\", \"quantity\": 72}, {\"product\": \"blender\", \"quantity\": 972}, {\"product\": \"tv\", \"quantity\": 872}, {\"product\": \"socks\", \"quantity\": 772}, {\"product\": \"broiler\", \"quantity\": 672}, {\"product\": \"shirt\", \"quantity\": 572}, {\"product\": \"toaster\", \"quantity\": 472}, {\"product\": \"phone\", \"quantity\": 372}], \"inventory\": 522000}\n",
      "{\"store\": 73, \"products\": [{\"product\": \"toaster\", \"quantity\": 873}, {\"product\": \"phone\", \"quantity\": 773}, {\"product\": \"blender\", \"quantity\": 673}, {\"product\": \"tv\", \"quantity\": 573}, {\"product\": \"socks\", \"quantity\": 473}, {\"product\": \"broiler\", \"quantity\": 373}, {\"product\": \"shirt\", \"quantity\": 273}, {\"product\": \"toaster\", \"quantity\": 173}, {\"product\": \"phone\", \"quantity\": 73}, {\"product\": \"blender\", \"quantity\": 973}], \"inventory\": 523000}\n",
      "{\"store\": 74, \"products\": [{\"product\": \"toaster\", \"quantity\": 574}, {\"product\": \"phone\", \"quantity\": 474}, {\"product\": \"blender\", \"quantity\": 374}, {\"product\": \"tv\", \"quantity\": 274}, {\"product\": \"socks\", \"quantity\": 174}, {\"product\": \"broiler\", \"quantity\": 74}, {\"product\": \"shirt\", \"quantity\": 974}, {\"product\": \"toaster\", \"quantity\": 874}, {\"product\": \"phone\", \"quantity\": 774}, {\"product\": \"blender\", \"quantity\": 674}], \"inventory\": 524000}\n",
      "{\"store\": 75, \"products\": [{\"product\": \"toaster\", \"quantity\": 275}, {\"product\": \"phone\", \"quantity\": 175}, {\"product\": \"blender\", \"quantity\": 75}, {\"product\": \"tv\", \"quantity\": 975}, {\"product\": \"socks\", \"quantity\": 875}, {\"product\": \"broiler\", \"quantity\": 775}, {\"product\": \"shirt\", \"quantity\": 675}, {\"product\": \"toaster\", \"quantity\": 575}, {\"product\": \"phone\", \"quantity\": 475}, {\"product\": \"blender\", \"quantity\": 375}], \"inventory\": 525000}\n",
      "{\"store\": 76, \"products\": [{\"product\": \"toaster\", \"quantity\": 976}, {\"product\": \"phone\", \"quantity\": 876}, {\"product\": \"blender\", \"quantity\": 776}, {\"product\": \"tv\", \"quantity\": 676}, {\"product\": \"socks\", \"quantity\": 576}, {\"product\": \"broiler\", \"quantity\": 476}, {\"product\": \"shirt\", \"quantity\": 376}, {\"product\": \"toaster\", \"quantity\": 276}, {\"product\": \"phone\", \"quantity\": 176}, {\"product\": \"blender\", \"quantity\": 76}], \"inventory\": 526000}\n",
      "{\"store\": 77, \"products\": [{\"product\": \"toaster\", \"quantity\": 677}, {\"product\": \"phone\", \"quantity\": 577}, {\"product\": \"blender\", \"quantity\": 477}, {\"product\": \"tv\", \"quantity\": 377}, {\"product\": \"socks\", \"quantity\": 277}, {\"product\": \"broiler\", \"quantity\": 177}, {\"product\": \"shirt\", \"quantity\": 77}, {\"product\": \"toaster\", \"quantity\": 977}, {\"product\": \"phone\", \"quantity\": 877}, {\"product\": \"blender\", \"quantity\": 777}], \"inventory\": 527000}\n",
      "{\"store\": 78, \"products\": [{\"product\": \"phone\", \"quantity\": 278}, {\"product\": \"blender\", \"quantity\": 178}, {\"product\": \"tv\", \"quantity\": 78}, {\"product\": \"socks\", \"quantity\": 978}, {\"product\": \"broiler\", \"quantity\": 878}, {\"product\": \"shirt\", \"quantity\": 778}, {\"product\": \"toaster\", \"quantity\": 678}, {\"product\": \"phone\", \"quantity\": 578}, {\"product\": \"blender\", \"quantity\": 478}, {\"product\": \"tv\", \"quantity\": 378}], \"inventory\": 528000}\n",
      "{\"store\": 79, \"products\": [{\"product\": \"phone\", \"quantity\": 979}, {\"product\": \"blender\", \"quantity\": 879}, {\"product\": \"tv\", \"quantity\": 779}, {\"product\": \"socks\", \"quantity\": 679}, {\"product\": \"broiler\", \"quantity\": 579}, {\"product\": \"shirt\", \"quantity\": 479}, {\"product\": \"toaster\", \"quantity\": 379}, {\"product\": \"phone\", \"quantity\": 279}, {\"product\": \"blender\", \"quantity\": 179}, {\"product\": \"tv\", \"quantity\": 79}], \"inventory\": 529000}\n",
      "{\"store\": 80, \"products\": [{\"product\": \"phone\", \"quantity\": 680}, {\"product\": \"blender\", \"quantity\": 580}, {\"product\": \"tv\", \"quantity\": 480}, {\"product\": \"socks\", \"quantity\": 380}, {\"product\": \"broiler\", \"quantity\": 280}, {\"product\": \"shirt\", \"quantity\": 180}, {\"product\": \"toaster\", \"quantity\": 80}, {\"product\": \"phone\", \"quantity\": 980}, {\"product\": \"blender\", \"quantity\": 880}, {\"product\": \"tv\", \"quantity\": 780}], \"inventory\": 530000}\n",
      "{\"store\": 81, \"products\": [{\"product\": \"phone\", \"quantity\": 381}, {\"product\": \"blender\", \"quantity\": 281}, {\"product\": \"tv\", \"quantity\": 181}, {\"product\": \"socks\", \"quantity\": 81}, {\"product\": \"broiler\", \"quantity\": 981}, {\"product\": \"shirt\", \"quantity\": 881}, {\"product\": \"toaster\", \"quantity\": 781}, {\"product\": \"phone\", \"quantity\": 681}, {\"product\": \"blender\", \"quantity\": 581}, {\"product\": \"tv\", \"quantity\": 481}], \"inventory\": 531000}\n",
      "{\"store\": 82, \"products\": [{\"product\": \"blender\", \"quantity\": 982}, {\"product\": \"tv\", \"quantity\": 882}, {\"product\": \"socks\", \"quantity\": 782}, {\"product\": \"broiler\", \"quantity\": 682}, {\"product\": \"shirt\", \"quantity\": 582}, {\"product\": \"toaster\", \"quantity\": 482}, {\"product\": \"phone\", \"quantity\": 382}, {\"product\": \"blender\", \"quantity\": 282}, {\"product\": \"tv\", \"quantity\": 182}, {\"product\": \"socks\", \"quantity\": 82}], \"inventory\": 532000}\n",
      "{\"store\": 83, \"products\": [{\"product\": \"blender\", \"quantity\": 683}, {\"product\": \"tv\", \"quantity\": 583}, {\"product\": \"socks\", \"quantity\": 483}, {\"product\": \"broiler\", \"quantity\": 383}, {\"product\": \"shirt\", \"quantity\": 283}, {\"product\": \"toaster\", \"quantity\": 183}, {\"product\": \"phone\", \"quantity\": 83}, {\"product\": \"blender\", \"quantity\": 983}, {\"product\": \"tv\", \"quantity\": 883}, {\"product\": \"socks\", \"quantity\": 783}], \"inventory\": 533000}\n",
      "{\"store\": 84, \"products\": [{\"product\": \"blender\", \"quantity\": 384}, {\"product\": \"tv\", \"quantity\": 284}, {\"product\": \"socks\", \"quantity\": 184}, {\"product\": \"broiler\", \"quantity\": 84}, {\"product\": \"shirt\", \"quantity\": 984}, {\"product\": \"toaster\", \"quantity\": 884}, {\"product\": \"phone\", \"quantity\": 784}, {\"product\": \"blender\", \"quantity\": 684}, {\"product\": \"tv\", \"quantity\": 584}, {\"product\": \"socks\", \"quantity\": 484}], \"inventory\": 534000}\n",
      "{\"store\": 85, \"products\": [{\"product\": \"blender\", \"quantity\": 85}, {\"product\": \"tv\", \"quantity\": 985}, {\"product\": \"socks\", \"quantity\": 885}, {\"product\": \"broiler\", \"quantity\": 785}, {\"product\": \"shirt\", \"quantity\": 685}, {\"product\": \"toaster\", \"quantity\": 585}, {\"product\": \"phone\", \"quantity\": 485}, {\"product\": \"blender\", \"quantity\": 385}, {\"product\": \"tv\", \"quantity\": 285}, {\"product\": \"socks\", \"quantity\": 185}], \"inventory\": 535000}\n",
      "{\"store\": 86, \"products\": [{\"product\": \"blender\", \"quantity\": 786}, {\"product\": \"tv\", \"quantity\": 686}, {\"product\": \"socks\", \"quantity\": 586}, {\"product\": \"broiler\", \"quantity\": 486}, {\"product\": \"shirt\", \"quantity\": 386}, {\"product\": \"toaster\", \"quantity\": 286}, {\"product\": \"phone\", \"quantity\": 186}, {\"product\": \"blender\", \"quantity\": 86}, {\"product\": \"tv\", \"quantity\": 986}, {\"product\": \"socks\", \"quantity\": 886}], \"inventory\": 536000}\n",
      "{\"store\": 87, \"products\": [{\"product\": \"tv\", \"quantity\": 387}, {\"product\": \"socks\", \"quantity\": 287}, {\"product\": \"broiler\", \"quantity\": 187}, {\"product\": \"shirt\", \"quantity\": 87}, {\"product\": \"toaster\", \"quantity\": 987}, {\"product\": \"phone\", \"quantity\": 887}, {\"product\": \"blender\", \"quantity\": 787}, {\"product\": \"tv\", \"quantity\": 687}, {\"product\": \"socks\", \"quantity\": 587}, {\"product\": \"broiler\", \"quantity\": 487}], \"inventory\": 537000}\n",
      "{\"store\": 88, \"products\": [{\"product\": \"tv\", \"quantity\": 88}, {\"product\": \"socks\", \"quantity\": 988}, {\"product\": \"broiler\", \"quantity\": 888}, {\"product\": \"shirt\", \"quantity\": 788}, {\"product\": \"toaster\", \"quantity\": 688}, {\"product\": \"phone\", \"quantity\": 588}, {\"product\": \"blender\", \"quantity\": 488}, {\"product\": \"tv\", \"quantity\": 388}, {\"product\": \"socks\", \"quantity\": 288}, {\"product\": \"broiler\", \"quantity\": 188}], \"inventory\": 538000}\n",
      "{\"store\": 89, \"products\": [{\"product\": \"tv\", \"quantity\": 789}, {\"product\": \"socks\", \"quantity\": 689}, {\"product\": \"broiler\", \"quantity\": 589}, {\"product\": \"shirt\", \"quantity\": 489}, {\"product\": \"toaster\", \"quantity\": 389}, {\"product\": \"phone\", \"quantity\": 289}, {\"product\": \"blender\", \"quantity\": 189}, {\"product\": \"tv\", \"quantity\": 89}, {\"product\": \"socks\", \"quantity\": 989}, {\"product\": \"broiler\", \"quantity\": 889}], \"inventory\": 539000}\n",
      "{\"store\": 90, \"products\": [{\"product\": \"tv\", \"quantity\": 490}, {\"product\": \"socks\", \"quantity\": 390}, {\"product\": \"broiler\", \"quantity\": 290}, {\"product\": \"shirt\", \"quantity\": 190}, {\"product\": \"toaster\", \"quantity\": 90}, {\"product\": \"phone\", \"quantity\": 990}, {\"product\": \"blender\", \"quantity\": 890}, {\"product\": \"tv\", \"quantity\": 790}, {\"product\": \"socks\", \"quantity\": 690}, {\"product\": \"broiler\", \"quantity\": 590}], \"inventory\": 540000}\n",
      "{\"store\": 91, \"products\": [{\"product\": \"tv\", \"quantity\": 191}, {\"product\": \"socks\", \"quantity\": 91}, {\"product\": \"broiler\", \"quantity\": 991}, {\"product\": \"shirt\", \"quantity\": 891}, {\"product\": \"toaster\", \"quantity\": 791}, {\"product\": \"phone\", \"quantity\": 691}, {\"product\": \"blender\", \"quantity\": 591}, {\"product\": \"tv\", \"quantity\": 491}, {\"product\": \"socks\", \"quantity\": 391}, {\"product\": \"broiler\", \"quantity\": 291}], \"inventory\": 541000}\n",
      "{\"store\": 92, \"products\": [{\"product\": \"socks\", \"quantity\": 792}, {\"product\": \"broiler\", \"quantity\": 692}, {\"product\": \"shirt\", \"quantity\": 592}, {\"product\": \"toaster\", \"quantity\": 492}, {\"product\": \"phone\", \"quantity\": 392}, {\"product\": \"blender\", \"quantity\": 292}, {\"product\": \"tv\", \"quantity\": 192}, {\"product\": \"socks\", \"quantity\": 92}, {\"product\": \"broiler\", \"quantity\": 992}, {\"product\": \"shirt\", \"quantity\": 892}], \"inventory\": 542000}\n",
      "{\"store\": 93, \"products\": [{\"product\": \"socks\", \"quantity\": 493}, {\"product\": \"broiler\", \"quantity\": 393}, {\"product\": \"shirt\", \"quantity\": 293}, {\"product\": \"toaster\", \"quantity\": 193}, {\"product\": \"phone\", \"quantity\": 93}, {\"product\": \"blender\", \"quantity\": 993}, {\"product\": \"tv\", \"quantity\": 893}, {\"product\": \"socks\", \"quantity\": 793}, {\"product\": \"broiler\", \"quantity\": 693}, {\"product\": \"shirt\", \"quantity\": 593}], \"inventory\": 543000}\n",
      "{\"store\": 94, \"products\": [{\"product\": \"socks\", \"quantity\": 194}, {\"product\": \"broiler\", \"quantity\": 94}, {\"product\": \"shirt\", \"quantity\": 994}, {\"product\": \"toaster\", \"quantity\": 894}, {\"product\": \"phone\", \"quantity\": 794}, {\"product\": \"blender\", \"quantity\": 694}, {\"product\": \"tv\", \"quantity\": 594}, {\"product\": \"socks\", \"quantity\": 494}, {\"product\": \"broiler\", \"quantity\": 394}, {\"product\": \"shirt\", \"quantity\": 294}], \"inventory\": 544000}\n",
      "{\"store\": 95, \"products\": [{\"product\": \"socks\", \"quantity\": 895}, {\"product\": \"broiler\", \"quantity\": 795}, {\"product\": \"shirt\", \"quantity\": 695}, {\"product\": \"toaster\", \"quantity\": 595}, {\"product\": \"phone\", \"quantity\": 495}, {\"product\": \"blender\", \"quantity\": 395}, {\"product\": \"tv\", \"quantity\": 295}, {\"product\": \"socks\", \"quantity\": 195}, {\"product\": \"broiler\", \"quantity\": 95}, {\"product\": \"shirt\", \"quantity\": 995}], \"inventory\": 545000}\n",
      "{\"store\": 96, \"products\": [{\"product\": \"socks\", \"quantity\": 596}, {\"product\": \"broiler\", \"quantity\": 496}, {\"product\": \"shirt\", \"quantity\": 396}, {\"product\": \"toaster\", \"quantity\": 296}, {\"product\": \"phone\", \"quantity\": 196}, {\"product\": \"blender\", \"quantity\": 96}, {\"product\": \"tv\", \"quantity\": 996}, {\"product\": \"socks\", \"quantity\": 896}, {\"product\": \"broiler\", \"quantity\": 796}, {\"product\": \"shirt\", \"quantity\": 696}], \"inventory\": 546000}\n",
      "{\"store\": 97, \"products\": [{\"product\": \"broiler\", \"quantity\": 197}, {\"product\": \"shirt\", \"quantity\": 97}, {\"product\": \"toaster\", \"quantity\": 997}, {\"product\": \"phone\", \"quantity\": 897}, {\"product\": \"blender\", \"quantity\": 797}, {\"product\": \"tv\", \"quantity\": 697}, {\"product\": \"socks\", \"quantity\": 597}, {\"product\": \"broiler\", \"quantity\": 497}, {\"product\": \"shirt\", \"quantity\": 397}, {\"product\": \"toaster\", \"quantity\": 297}], \"inventory\": 547000}\n",
      "{\"store\": 98, \"products\": [{\"product\": \"broiler\", \"quantity\": 898}, {\"product\": \"shirt\", \"quantity\": 798}, {\"product\": \"toaster\", \"quantity\": 698}, {\"product\": \"phone\", \"quantity\": 598}, {\"product\": \"blender\", \"quantity\": 498}, {\"product\": \"tv\", \"quantity\": 398}, {\"product\": \"socks\", \"quantity\": 298}, {\"product\": \"broiler\", \"quantity\": 198}, {\"product\": \"shirt\", \"quantity\": 98}, {\"product\": \"toaster\", \"quantity\": 998}], \"inventory\": 548000}\n",
      "{\"store\": 99, \"products\": [{\"product\": \"broiler\", \"quantity\": 599}, {\"product\": \"shirt\", \"quantity\": 499}, {\"product\": \"toaster\", \"quantity\": 399}, {\"product\": \"phone\", \"quantity\": 299}, {\"product\": \"blender\", \"quantity\": 199}, {\"product\": \"tv\", \"quantity\": 99}, {\"product\": \"socks\", \"quantity\": 999}, {\"product\": \"broiler\", \"quantity\": 899}, {\"product\": \"shirt\", \"quantity\": 799}, {\"product\": \"toaster\", \"quantity\": 699}], \"inventory\": 549000}\n",
      "{\"store\": 100, \"products\": [{\"product\": \"broiler\", \"quantity\": 300}, {\"product\": \"shirt\", \"quantity\": 200}, {\"product\": \"toaster\", \"quantity\": 100}, {\"product\": \"phone\", \"quantity\": 1000}, {\"product\": \"blender\", \"quantity\": 900}, {\"product\": \"tv\", \"quantity\": 800}, {\"product\": \"socks\", \"quantity\": 700}, {\"product\": \"broiler\", \"quantity\": 600}, {\"product\": \"shirt\", \"quantity\": 500}, {\"product\": \"toaster\", \"quantity\": 400}], \"inventory\": 550000}\n"
     ]
    }
   ],
   "source": [
    "%%rumble\n",
    "for $product in json-file(\"http://rumbledb.org/samples/products-small.json\", 10)\n",
    "group by $store-number := $product.store-number\n",
    "order by $store-number ascending\n",
    "return {\n",
    "    \"store\" : $store-number,\n",
    "    \"products\" : [ project($product[position() le 10], (\"product\", \"quantity\")) ],\n",
    "    \"inventory\" : sum($product.quantity)\n",
    "}"
   ]
  },
  {
   "cell_type": "markdown",
   "metadata": {},
   "source": [
    "That's it! You know the basics of JSONiq. Now you can also download the RumbleDB jar and run it on your own laptop. Or [on a Spark cluster, reading data from and to HDFS](https://rumble.readthedocs.io/en/latest/Run%20on%20a%20cluster/), etc.\n"
   ]
  },
  {
   "cell_type": "code",
   "execution_count": null,
   "metadata": {},
   "outputs": [],
   "source": []
  }
 ],
 "metadata": {
  "anaconda-cloud": {},
  "kernelspec": {
   "display_name": "Python 3",
   "language": "python",
   "name": "python3"
  },
  "language_info": {
   "codemirror_mode": {
    "name": "ipython",
    "version": 3
   },
   "file_extension": ".py",
   "mimetype": "text/x-python",
   "name": "python",
   "nbconvert_exporter": "python",
   "pygments_lexer": "ipython3",
   "version": "3.7.9"
  }
 },
 "nbformat": 4,
 "nbformat_minor": 1
}
